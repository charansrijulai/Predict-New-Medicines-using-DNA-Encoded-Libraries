{
  "nbformat": 4,
  "nbformat_minor": 0,
  "metadata": {
    "colab": {
      "provenance": [],
      "machine_shape": "hm",
      "gpuType": "V28"
    },
    "kernelspec": {
      "name": "python3",
      "display_name": "Python 3"
    },
    "language_info": {
      "name": "python"
    },
    "accelerator": "TPU"
  },
  "cells": [
    {
      "cell_type": "code",
      "source": [
        "!pip install rdkit joblib tqdm pandas pyarrow gcsfs fastparquet mlflow google-cloud-storage google-cloud-aiplatform --quiet"
      ],
      "metadata": {
        "colab": {
          "base_uri": "https://localhost:8080/"
        },
        "id": "y95RgUPfkzLI",
        "outputId": "378f8315-0e01-46fd-cf16-17940ec81373"
      },
      "execution_count": 28,
      "outputs": [
        {
          "output_type": "stream",
          "name": "stdout",
          "text": [
            "\u001b[1;31merror\u001b[0m: \u001b[1muninstall-distutils-installed-package\u001b[0m\n",
            "\n",
            "\u001b[31m×\u001b[0m Cannot uninstall blinker 1.4\n",
            "\u001b[31m╰─>\u001b[0m It is a distutils installed project and thus we cannot accurately determine which files belong to it which would lead to only a partial uninstall.\n"
          ]
        }
      ]
    },
    {
      "cell_type": "code",
      "source": [
        "from google.colab import files\n",
        "uploaded = files.upload()"
      ],
      "metadata": {
        "colab": {
          "base_uri": "https://localhost:8080/",
          "height": 35
        },
        "id": "vvB-NVGcnAvm",
        "outputId": "5574bdb2-c080-4e65-9df6-2bf986588ff6"
      },
      "execution_count": 2,
      "outputs": [
        {
          "output_type": "display_data",
          "data": {
            "text/plain": [
              "<IPython.core.display.HTML object>"
            ],
            "text/html": [
              "\n",
              "     <input type=\"file\" id=\"files-cb53011d-9815-496d-b4ea-e5e6d1b147aa\" name=\"files[]\" multiple disabled\n",
              "        style=\"border:none\" />\n",
              "     <output id=\"result-cb53011d-9815-496d-b4ea-e5e6d1b147aa\">\n",
              "      Upload widget is only available when the cell has been executed in the\n",
              "      current browser session. Please rerun this cell to enable.\n",
              "      </output>\n",
              "      <script>// Copyright 2017 Google LLC\n",
              "//\n",
              "// Licensed under the Apache License, Version 2.0 (the \"License\");\n",
              "// you may not use this file except in compliance with the License.\n",
              "// You may obtain a copy of the License at\n",
              "//\n",
              "//      http://www.apache.org/licenses/LICENSE-2.0\n",
              "//\n",
              "// Unless required by applicable law or agreed to in writing, software\n",
              "// distributed under the License is distributed on an \"AS IS\" BASIS,\n",
              "// WITHOUT WARRANTIES OR CONDITIONS OF ANY KIND, either express or implied.\n",
              "// See the License for the specific language governing permissions and\n",
              "// limitations under the License.\n",
              "\n",
              "/**\n",
              " * @fileoverview Helpers for google.colab Python module.\n",
              " */\n",
              "(function(scope) {\n",
              "function span(text, styleAttributes = {}) {\n",
              "  const element = document.createElement('span');\n",
              "  element.textContent = text;\n",
              "  for (const key of Object.keys(styleAttributes)) {\n",
              "    element.style[key] = styleAttributes[key];\n",
              "  }\n",
              "  return element;\n",
              "}\n",
              "\n",
              "// Max number of bytes which will be uploaded at a time.\n",
              "const MAX_PAYLOAD_SIZE = 100 * 1024;\n",
              "\n",
              "function _uploadFiles(inputId, outputId) {\n",
              "  const steps = uploadFilesStep(inputId, outputId);\n",
              "  const outputElement = document.getElementById(outputId);\n",
              "  // Cache steps on the outputElement to make it available for the next call\n",
              "  // to uploadFilesContinue from Python.\n",
              "  outputElement.steps = steps;\n",
              "\n",
              "  return _uploadFilesContinue(outputId);\n",
              "}\n",
              "\n",
              "// This is roughly an async generator (not supported in the browser yet),\n",
              "// where there are multiple asynchronous steps and the Python side is going\n",
              "// to poll for completion of each step.\n",
              "// This uses a Promise to block the python side on completion of each step,\n",
              "// then passes the result of the previous step as the input to the next step.\n",
              "function _uploadFilesContinue(outputId) {\n",
              "  const outputElement = document.getElementById(outputId);\n",
              "  const steps = outputElement.steps;\n",
              "\n",
              "  const next = steps.next(outputElement.lastPromiseValue);\n",
              "  return Promise.resolve(next.value.promise).then((value) => {\n",
              "    // Cache the last promise value to make it available to the next\n",
              "    // step of the generator.\n",
              "    outputElement.lastPromiseValue = value;\n",
              "    return next.value.response;\n",
              "  });\n",
              "}\n",
              "\n",
              "/**\n",
              " * Generator function which is called between each async step of the upload\n",
              " * process.\n",
              " * @param {string} inputId Element ID of the input file picker element.\n",
              " * @param {string} outputId Element ID of the output display.\n",
              " * @return {!Iterable<!Object>} Iterable of next steps.\n",
              " */\n",
              "function* uploadFilesStep(inputId, outputId) {\n",
              "  const inputElement = document.getElementById(inputId);\n",
              "  inputElement.disabled = false;\n",
              "\n",
              "  const outputElement = document.getElementById(outputId);\n",
              "  outputElement.innerHTML = '';\n",
              "\n",
              "  const pickedPromise = new Promise((resolve) => {\n",
              "    inputElement.addEventListener('change', (e) => {\n",
              "      resolve(e.target.files);\n",
              "    });\n",
              "  });\n",
              "\n",
              "  const cancel = document.createElement('button');\n",
              "  inputElement.parentElement.appendChild(cancel);\n",
              "  cancel.textContent = 'Cancel upload';\n",
              "  const cancelPromise = new Promise((resolve) => {\n",
              "    cancel.onclick = () => {\n",
              "      resolve(null);\n",
              "    };\n",
              "  });\n",
              "\n",
              "  // Wait for the user to pick the files.\n",
              "  const files = yield {\n",
              "    promise: Promise.race([pickedPromise, cancelPromise]),\n",
              "    response: {\n",
              "      action: 'starting',\n",
              "    }\n",
              "  };\n",
              "\n",
              "  cancel.remove();\n",
              "\n",
              "  // Disable the input element since further picks are not allowed.\n",
              "  inputElement.disabled = true;\n",
              "\n",
              "  if (!files) {\n",
              "    return {\n",
              "      response: {\n",
              "        action: 'complete',\n",
              "      }\n",
              "    };\n",
              "  }\n",
              "\n",
              "  for (const file of files) {\n",
              "    const li = document.createElement('li');\n",
              "    li.append(span(file.name, {fontWeight: 'bold'}));\n",
              "    li.append(span(\n",
              "        `(${file.type || 'n/a'}) - ${file.size} bytes, ` +\n",
              "        `last modified: ${\n",
              "            file.lastModifiedDate ? file.lastModifiedDate.toLocaleDateString() :\n",
              "                                    'n/a'} - `));\n",
              "    const percent = span('0% done');\n",
              "    li.appendChild(percent);\n",
              "\n",
              "    outputElement.appendChild(li);\n",
              "\n",
              "    const fileDataPromise = new Promise((resolve) => {\n",
              "      const reader = new FileReader();\n",
              "      reader.onload = (e) => {\n",
              "        resolve(e.target.result);\n",
              "      };\n",
              "      reader.readAsArrayBuffer(file);\n",
              "    });\n",
              "    // Wait for the data to be ready.\n",
              "    let fileData = yield {\n",
              "      promise: fileDataPromise,\n",
              "      response: {\n",
              "        action: 'continue',\n",
              "      }\n",
              "    };\n",
              "\n",
              "    // Use a chunked sending to avoid message size limits. See b/62115660.\n",
              "    let position = 0;\n",
              "    do {\n",
              "      const length = Math.min(fileData.byteLength - position, MAX_PAYLOAD_SIZE);\n",
              "      const chunk = new Uint8Array(fileData, position, length);\n",
              "      position += length;\n",
              "\n",
              "      const base64 = btoa(String.fromCharCode.apply(null, chunk));\n",
              "      yield {\n",
              "        response: {\n",
              "          action: 'append',\n",
              "          file: file.name,\n",
              "          data: base64,\n",
              "        },\n",
              "      };\n",
              "\n",
              "      let percentDone = fileData.byteLength === 0 ?\n",
              "          100 :\n",
              "          Math.round((position / fileData.byteLength) * 100);\n",
              "      percent.textContent = `${percentDone}% done`;\n",
              "\n",
              "    } while (position < fileData.byteLength);\n",
              "  }\n",
              "\n",
              "  // All done.\n",
              "  yield {\n",
              "    response: {\n",
              "      action: 'complete',\n",
              "    }\n",
              "  };\n",
              "}\n",
              "\n",
              "scope.google = scope.google || {};\n",
              "scope.google.colab = scope.google.colab || {};\n",
              "scope.google.colab._files = {\n",
              "  _uploadFiles,\n",
              "  _uploadFilesContinue,\n",
              "};\n",
              "})(self);\n",
              "</script> "
            ]
          },
          "metadata": {}
        }
      ]
    },
    {
      "cell_type": "code",
      "source": [
        "# !gcloud auth activate-service-account --key-file=your-service-account-key.json"
      ],
      "metadata": {
        "id": "pST1Xq7bnEQX"
      },
      "execution_count": 4,
      "outputs": []
    },
    {
      "cell_type": "code",
      "source": [
        "# !gcloud auth list"
      ],
      "metadata": {
        "id": "plvv3zjjnHVq"
      },
      "execution_count": 6,
      "outputs": []
    },
    {
      "cell_type": "code",
      "source": [
        "# !gcloud config set project kinetic-object-437418-v7"
      ],
      "metadata": {
        "id": "4nhLhnHenKi4"
      },
      "execution_count": 9,
      "outputs": []
    },
    {
      "cell_type": "code",
      "source": [
        "# !gcloud config list"
      ],
      "metadata": {
        "id": "5tduVaWUnZF1"
      },
      "execution_count": 11,
      "outputs": []
    },
    {
      "cell_type": "code",
      "source": [
        "# !gcloud auth login --no-launch-browser"
      ],
      "metadata": {
        "id": "LYmInd3pncwh"
      },
      "execution_count": 13,
      "outputs": []
    },
    {
      "cell_type": "code",
      "source": [
        "# !gcloud auth list"
      ],
      "metadata": {
        "id": "e8c8Zifknk-Q"
      },
      "execution_count": 15,
      "outputs": []
    },
    {
      "cell_type": "code",
      "source": [
        "# !gcloud storage buckets list"
      ],
      "metadata": {
        "id": "ysz8i4zbnnFt"
      },
      "execution_count": 17,
      "outputs": []
    },
    {
      "cell_type": "code",
      "source": [
        "!pip install google-cloud-aiplatform --upgrade --quiet\n",
        "# Install/Upgrade the specific 'google-cloud-aiplatform' package.\n",
        "# The `--quiet` flag suppresses verbose output.\n",
        "# The `--upgrade` flag"
      ],
      "metadata": {
        "id": "FIXpNRjGpoz5"
      },
      "execution_count": 18,
      "outputs": []
    },
    {
      "cell_type": "code",
      "source": [
        "!pip install mlflow"
      ],
      "metadata": {
        "id": "iRcabKI31vkj"
      },
      "execution_count": 20,
      "outputs": []
    },
    {
      "cell_type": "code",
      "source": [
        "from google.cloud import aiplatform\n",
        "\n",
        "PROJECT_ID = \"kinetic-object-437418-v7\"\n",
        "REGION = \"us-east1\"\n",
        "\n",
        "# aiplatform.init(project=PROJECT_ID, location=REGION)\n"
      ],
      "metadata": {
        "id": "hzUz4uken5zm"
      },
      "execution_count": 21,
      "outputs": []
    },
    {
      "cell_type": "code",
      "source": [
        "# import blinker\n",
        "# print(blinker.__file__)  # Outputs the location of the installed package\n"
      ],
      "metadata": {
        "id": "8dRHyJj9nb_e"
      },
      "execution_count": 23,
      "outputs": []
    },
    {
      "cell_type": "code",
      "source": [
        "# !rm -rf /usr/lib/python3/dist-packages/blinker/__init__.py\n"
      ],
      "metadata": {
        "id": "7O-1XF5yqqWH"
      },
      "execution_count": 24,
      "outputs": []
    },
    {
      "cell_type": "code",
      "source": [
        "# !pip install --upgrade --force-reinstall --ignore-installed blinker\n",
        "\n"
      ],
      "metadata": {
        "id": "xX3xaGBvq3Ik"
      },
      "execution_count": 27,
      "outputs": []
    },
    {
      "cell_type": "code",
      "source": [
        "import mlflow\n",
        "print(f\"MLflow version: {mlflow.__version__}\")\n",
        "\n",
        "# Set MLflow to log runs locally\n",
        "mlflow.set_tracking_uri(\"file:///content/mlruns\")\n",
        "\n",
        "# Verify the tracking URI\n",
        "print(f\"Tracking URI: {mlflow.get_tracking_uri()}\")"
      ],
      "metadata": {
        "colab": {
          "base_uri": "https://localhost:8080/"
        },
        "id": "wzGrrfB1rP-s",
        "outputId": "d1df8b44-2acc-46ef-958f-4e050d470436"
      },
      "execution_count": 30,
      "outputs": [
        {
          "output_type": "stream",
          "name": "stdout",
          "text": [
            "MLflow version: 2.18.0\n",
            "Tracking URI: file:///content/mlruns\n"
          ]
        }
      ]
    },
    {
      "cell_type": "code",
      "source": [
        "# import mlflow\n",
        "\n",
        "# # Set tracking URI (change to your MLflow server URL if applicable)\n",
        "# MLFLOW_TRACKING_URI = \"http://your-mlflow-server:5000\"\n",
        "# mlflow.set_tracking_uri(MLFLOW_TRACKING_URI)\n"
      ],
      "metadata": {
        "id": "M7oB3E63rlHq"
      },
      "execution_count": null,
      "outputs": []
    },
    {
      "cell_type": "code",
      "source": [
        "import pickle\n",
        "import os\n",
        "from google.cloud import storage\n",
        "\n",
        "# Initialize the GCS client\n",
        "client = storage.Client()\n",
        "\n",
        "# Specify the GCS bucket and file paths\n",
        "bucket_name = \"drug_prediction\"\n",
        "file_name_X = \"artifacts/X.pkl\"\n",
        "file_name_y = \"artifacts/y.pkl\"\n",
        "\n",
        "# Local temporary directory to save downloaded files\n",
        "local_directory = \"/content/\"\n",
        "os.makedirs(local_directory, exist_ok=True)\n",
        "\n",
        "# Function to download a file from GCS\n",
        "def download_from_gcs(bucket_name, gcs_path, local_path):\n",
        "    bucket = client.bucket(bucket_name)\n",
        "    blob = bucket.blob(gcs_path)\n",
        "    blob.download_to_filename(local_path)\n",
        "    print(f\"Downloaded {gcs_path} to {local_path}\")\n",
        "\n",
        "# Download the pickle files from GCS\n",
        "local_file_X = os.path.join(local_directory, \"X.pkl\")\n",
        "local_file_y = os.path.join(local_directory, \"y.pkl\")\n",
        "download_from_gcs(bucket_name, file_name_X, local_file_X)\n",
        "download_from_gcs(bucket_name, file_name_y, local_file_y)\n",
        "\n",
        "# Load the pickle files\n",
        "with open(local_file_X, 'rb') as f:\n",
        "    X = pickle.load(f)\n",
        "\n",
        "with open(local_file_y, 'rb') as f:\n",
        "    y = pickle.load(f)\n",
        "\n",
        "# Print confirmation and details\n",
        "print(f\"Loaded X with shape: {len(X)} rows\")\n",
        "print(f\"Loaded y with shape: {len(y)} rows\")"
      ],
      "metadata": {
        "colab": {
          "base_uri": "https://localhost:8080/"
        },
        "id": "856NmXwMoSMJ",
        "outputId": "003ef20c-9cb9-44c3-9db3-3df72eca029b"
      },
      "execution_count": 29,
      "outputs": [
        {
          "output_type": "stream",
          "name": "stdout",
          "text": [
            "Loaded X with shape: 10191006 rows\n",
            "Loaded y with shape: 10191006 rows\n"
          ]
        }
      ]
    },
    {
      "cell_type": "code",
      "source": [
        "!pip install xgboost catboost lightgbm --quiet"
      ],
      "metadata": {
        "id": "djy4h2z8tGJh"
      },
      "execution_count": 31,
      "outputs": []
    },
    {
      "cell_type": "code",
      "source": [
        "import mlflow\n",
        "import mlflow.sklearn\n",
        "\n",
        "from sklearn.model_selection import train_test_split\n",
        "from sklearn.linear_model import LogisticRegression\n",
        "from sklearn.ensemble import RandomForestClassifier\n",
        "from sklearn.tree import DecisionTreeClassifier\n",
        "import lightgbm as lgb\n",
        "import xgboost as xgb\n",
        "from catboost import CatBoostClassifier\n",
        "from sklearn.metrics import (\n",
        "    accuracy_score,\n",
        "    precision_score,\n",
        "    recall_score,\n",
        "    f1_score,\n",
        "    roc_auc_score,\n",
        "    classification_report,\n",
        "    average_precision_score\n",
        ")\n"
      ],
      "metadata": {
        "id": "b_KoPxe5sxMB"
      },
      "execution_count": 32,
      "outputs": []
    },
    {
      "cell_type": "code",
      "source": [
        "aiplatform.init(project=PROJECT_ID, location=REGION)\n",
        "\n",
        "# Train and log model on Vertex AI\n",
        "def train_and_log_model(model_name, model, X_train, X_val, y_train, y_val):\n",
        "    # Train the model\n",
        "    model = model.fit(X_train, y_train)\n",
        "\n",
        "    # Predictions\n",
        "    pred_model = model.predict(X_val)\n",
        "    pred_proba = model.predict_proba(X_val)[:, 1] if hasattr(model, \"predict_proba\") else None\n",
        "\n",
        "    # Metrics\n",
        "    accuracy = accuracy_score(y_val, pred_model)\n",
        "    roc_auc = roc_auc_score(y_val, pred_proba) if pred_proba is not None else None\n",
        "    weighted_map = (\n",
        "        average_precision_score(y_val, pred_proba, average=\"weighted\") if pred_proba is not None else None\n",
        "    )\n",
        "\n",
        "    # Classification report\n",
        "    report = classification_report(y_val, pred_model)\n",
        "\n",
        "    # Log metrics to Vertex AI\n",
        "    experiment = aiplatform.Experiment(name=\"model_experiments\")\n",
        "    metrics = {\n",
        "        \"accuracy\": accuracy,\n",
        "    }\n",
        "    if roc_auc is not None:\n",
        "        metrics[\"roc_auc\"] = roc_auc\n",
        "    if weighted_map is not None:\n",
        "        metrics[\"weighted_map\"] = weighted_map\n",
        "\n",
        "    experiment.run(\n",
        "        run_name=model_name,\n",
        "        run_params={\n",
        "            \"model_name\": model_name,\n",
        "        },\n",
        "        run_metrics=metrics,\n",
        "    )\n",
        "\n",
        "    # Print metrics and classification report\n",
        "    print(f\"Classification Report for {model_name}:\\n{report}\")\n",
        "    print(f\"{model_name} - Accuracy: {accuracy:.4f}\")\n",
        "    if roc_auc is not None:\n",
        "        print(f\"ROC AUC: {roc_auc:.4f}\")\n",
        "    if weighted_map is not None:\n",
        "        print(f\"Weighted mAP: {weighted_map:.4f}\")\n",
        "\n",
        "# Main training workflow\n",
        "def main():\n",
        "    # Split data\n",
        "    X_train, X_val, y_train, y_val = train_test_split(X, y, test_size=0.2, random_state=42)\n",
        "\n",
        "    # Calculate class imbalance ratio\n",
        "    scale_pos_weight = len(y_train[y_train == 0]) / len(y_train[y_train == 1])\n",
        "\n",
        "    # Define models\n",
        "    models = {\n",
        "        \"Logistic Regression\": LogisticRegression(class_weight=\"balanced\", max_iter=200),\n",
        "        \"Random Forest\": RandomForestClassifier(n_estimators=100, max_depth=30, class_weight=\"balanced\", random_state=105, n_jobs=-1),\n",
        "        \"Decision Tree\": DecisionTreeClassifier(max_depth=5, class_weight=\"balanced\", random_state=42),\n",
        "        \"LightGBM\": lgb.LGBMClassifier(n_estimators=50,\n",
        "                                      max_depth=50,\n",
        "                                      scale_pos_weight=scale_pos_weight,\n",
        "                                      learning_rate=0.1),\n",
        "        \"XGBoost\": xgb.XGBClassifier(n_estimators=100,\n",
        "                                    max_depth=50,\n",
        "                                    scale_pos_weight=scale_pos_weight,\n",
        "                                    learning_rate=0.1,\n",
        "                                    objective='binary:logistic',\n",
        "                                    n_jobs=-1,\n",
        "                                    random_state=42,\n",
        "                                    tree_method='hist' ),\n",
        "        \"CatBoost\": CatBoostClassifier(iterations=50,\n",
        "                                      depth=6,\n",
        "                                      learning_rate=0.1,\n",
        "                                      verbose=0,\n",
        "                                      scale_pos_weight=scale_pos_weight)\n",
        "    }\n",
        "\n",
        "    # Train and log each model\n",
        "    for model_name, model in models.items():\n",
        "        train_and_log_model(model_name, model, X_train, X_val, y_train, y_val)\n",
        "\n",
        "if __name__ == \"__main__\":\n",
        "    main()"
      ],
      "metadata": {
        "id": "9Ux9Rpx20uHb"
      },
      "execution_count": null,
      "outputs": []
    }
  ]
}