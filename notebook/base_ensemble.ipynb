{
 "cells": [
  {
   "cell_type": "code",
   "execution_count": 1,
   "id": "693cf58f-09d5-4acc-8455-191a38e059b2",
   "metadata": {},
   "outputs": [
    {
     "name": "stdout",
     "output_type": "stream",
     "text": [
      "Defaulting to user installation because normal site-packages is not writeable\n",
      "Requirement already satisfied: duckdb in ./.local/lib/python3.8/site-packages (0.8.1)\n"
     ]
    }
   ],
   "source": [
    "!pip install duckdb"
   ]
  },
  {
   "cell_type": "code",
   "execution_count": 2,
   "id": "5aa85a19-a937-4b37-b311-b56c6380dd2f",
   "metadata": {
    "tags": []
   },
   "outputs": [
    {
     "name": "stdout",
     "output_type": "stream",
     "text": [
      "Defaulting to user installation because normal site-packages is not writeable\n",
      "Requirement already satisfied: jupyter-duckdb in ./.local/lib/python3.8/site-packages (0.8.1.5)\n",
      "Requirement already satisfied: graphviz==0.20.1 in ./.local/lib/python3.8/site-packages (from jupyter-duckdb) (0.20.1)\n",
      "Requirement already satisfied: jupyter in /shared/centos7/anaconda3/2021.05/lib/python3.8/site-packages (from jupyter-duckdb) (1.0.0)\n",
      "Requirement already satisfied: duckdb==0.8.1 in ./.local/lib/python3.8/site-packages (from jupyter-duckdb) (0.8.1)\n",
      "Requirement already satisfied: checkmarkandcross in ./.local/lib/python3.8/site-packages (from jupyter-duckdb) (0.1.2)\n",
      "Requirement already satisfied: IPython in /shared/centos7/anaconda3/2021.05/lib/python3.8/site-packages (from checkmarkandcross->jupyter-duckdb) (7.22.0)\n",
      "Requirement already satisfied: traitlets>=4.2 in /shared/centos7/anaconda3/2021.05/lib/python3.8/site-packages (from IPython->checkmarkandcross->jupyter-duckdb) (5.0.5)\n",
      "Requirement already satisfied: jedi>=0.16 in /shared/centos7/anaconda3/2021.05/lib/python3.8/site-packages (from IPython->checkmarkandcross->jupyter-duckdb) (0.17.2)\n",
      "Requirement already satisfied: prompt-toolkit!=3.0.0,!=3.0.1,<3.1.0,>=2.0.0 in /shared/centos7/anaconda3/2021.05/lib/python3.8/site-packages (from IPython->checkmarkandcross->jupyter-duckdb) (3.0.17)\n",
      "Requirement already satisfied: setuptools>=18.5 in /shared/centos7/anaconda3/2021.05/lib/python3.8/site-packages (from IPython->checkmarkandcross->jupyter-duckdb) (52.0.0.post20210125)\n",
      "Requirement already satisfied: backcall in /shared/centos7/anaconda3/2021.05/lib/python3.8/site-packages (from IPython->checkmarkandcross->jupyter-duckdb) (0.2.0)\n",
      "Requirement already satisfied: pexpect>4.3 in /shared/centos7/anaconda3/2021.05/lib/python3.8/site-packages (from IPython->checkmarkandcross->jupyter-duckdb) (4.8.0)\n",
      "Requirement already satisfied: pickleshare in /shared/centos7/anaconda3/2021.05/lib/python3.8/site-packages (from IPython->checkmarkandcross->jupyter-duckdb) (0.7.5)\n",
      "Requirement already satisfied: decorator in /shared/centos7/anaconda3/2021.05/lib/python3.8/site-packages (from IPython->checkmarkandcross->jupyter-duckdb) (5.0.6)\n",
      "Requirement already satisfied: pygments in /shared/centos7/anaconda3/2021.05/lib/python3.8/site-packages (from IPython->checkmarkandcross->jupyter-duckdb) (2.8.1)\n",
      "Requirement already satisfied: parso<0.8.0,>=0.7.0 in /shared/centos7/anaconda3/2021.05/lib/python3.8/site-packages (from jedi>=0.16->IPython->checkmarkandcross->jupyter-duckdb) (0.7.0)\n",
      "Requirement already satisfied: ptyprocess>=0.5 in /shared/centos7/anaconda3/2021.05/lib/python3.8/site-packages (from pexpect>4.3->IPython->checkmarkandcross->jupyter-duckdb) (0.7.0)\n",
      "Requirement already satisfied: wcwidth in /shared/centos7/anaconda3/2021.05/lib/python3.8/site-packages (from prompt-toolkit!=3.0.0,!=3.0.1,<3.1.0,>=2.0.0->IPython->checkmarkandcross->jupyter-duckdb) (0.2.5)\n",
      "Requirement already satisfied: ipython-genutils in /shared/centos7/anaconda3/2021.05/lib/python3.8/site-packages (from traitlets>=4.2->IPython->checkmarkandcross->jupyter-duckdb) (0.2.0)\n",
      "Requirement already satisfied: qtconsole in /shared/centos7/anaconda3/2021.05/lib/python3.8/site-packages (from jupyter->jupyter-duckdb) (5.0.3)\n",
      "Requirement already satisfied: ipykernel in /shared/centos7/anaconda3/2021.05/lib/python3.8/site-packages (from jupyter->jupyter-duckdb) (5.3.4)\n",
      "Requirement already satisfied: notebook in /shared/centos7/anaconda3/2021.05/lib/python3.8/site-packages (from jupyter->jupyter-duckdb) (6.3.0)\n",
      "Requirement already satisfied: ipywidgets in /shared/centos7/anaconda3/2021.05/lib/python3.8/site-packages (from jupyter->jupyter-duckdb) (7.6.3)\n",
      "Requirement already satisfied: nbconvert in /shared/centos7/anaconda3/2021.05/lib/python3.8/site-packages (from jupyter->jupyter-duckdb) (6.0.7)\n",
      "Requirement already satisfied: jupyter-console in /shared/centos7/anaconda3/2021.05/lib/python3.8/site-packages (from jupyter->jupyter-duckdb) (6.4.0)\n",
      "Requirement already satisfied: tornado>=4.2 in /shared/centos7/anaconda3/2021.05/lib/python3.8/site-packages (from ipykernel->jupyter->jupyter-duckdb) (6.1)\n",
      "Requirement already satisfied: jupyter-client in /shared/centos7/anaconda3/2021.05/lib/python3.8/site-packages (from ipykernel->jupyter->jupyter-duckdb) (6.1.12)\n",
      "Requirement already satisfied: widgetsnbextension~=3.5.0 in /shared/centos7/anaconda3/2021.05/lib/python3.8/site-packages (from ipywidgets->jupyter->jupyter-duckdb) (3.5.1)\n",
      "Requirement already satisfied: jupyterlab-widgets>=1.0.0 in /shared/centos7/anaconda3/2021.05/lib/python3.8/site-packages (from ipywidgets->jupyter->jupyter-duckdb) (1.0.0)\n",
      "Requirement already satisfied: nbformat>=4.2.0 in /shared/centos7/anaconda3/2021.05/lib/python3.8/site-packages (from ipywidgets->jupyter->jupyter-duckdb) (5.1.3)\n",
      "Requirement already satisfied: jupyter-core in /shared/centos7/anaconda3/2021.05/lib/python3.8/site-packages (from nbformat>=4.2.0->ipywidgets->jupyter->jupyter-duckdb) (4.7.1)\n",
      "Requirement already satisfied: jsonschema!=2.5.0,>=2.4 in /shared/centos7/anaconda3/2021.05/lib/python3.8/site-packages (from nbformat>=4.2.0->ipywidgets->jupyter->jupyter-duckdb) (3.2.0)\n",
      "Requirement already satisfied: pyrsistent>=0.14.0 in /shared/centos7/anaconda3/2021.05/lib/python3.8/site-packages (from jsonschema!=2.5.0,>=2.4->nbformat>=4.2.0->ipywidgets->jupyter->jupyter-duckdb) (0.17.3)\n",
      "Requirement already satisfied: six>=1.11.0 in /shared/centos7/anaconda3/2021.05/lib/python3.8/site-packages (from jsonschema!=2.5.0,>=2.4->nbformat>=4.2.0->ipywidgets->jupyter->jupyter-duckdb) (1.15.0)\n",
      "Requirement already satisfied: attrs>=17.4.0 in /shared/centos7/anaconda3/2021.05/lib/python3.8/site-packages (from jsonschema!=2.5.0,>=2.4->nbformat>=4.2.0->ipywidgets->jupyter->jupyter-duckdb) (20.3.0)\n",
      "Requirement already satisfied: argon2-cffi in /shared/centos7/anaconda3/2021.05/lib/python3.8/site-packages (from notebook->jupyter->jupyter-duckdb) (20.1.0)\n",
      "Requirement already satisfied: pyzmq>=17 in /shared/centos7/anaconda3/2021.05/lib/python3.8/site-packages (from notebook->jupyter->jupyter-duckdb) (20.0.0)\n",
      "Requirement already satisfied: jinja2 in /shared/centos7/anaconda3/2021.05/lib/python3.8/site-packages (from notebook->jupyter->jupyter-duckdb) (2.11.3)\n",
      "Requirement already satisfied: Send2Trash>=1.5.0 in /shared/centos7/anaconda3/2021.05/lib/python3.8/site-packages (from notebook->jupyter->jupyter-duckdb) (1.5.0)\n",
      "Requirement already satisfied: prometheus-client in /shared/centos7/anaconda3/2021.05/lib/python3.8/site-packages (from notebook->jupyter->jupyter-duckdb) (0.10.1)\n",
      "Requirement already satisfied: terminado>=0.8.3 in /shared/centos7/anaconda3/2021.05/lib/python3.8/site-packages (from notebook->jupyter->jupyter-duckdb) (0.9.4)\n",
      "Requirement already satisfied: python-dateutil>=2.1 in ./.local/lib/python3.8/site-packages (from jupyter-client->ipykernel->jupyter->jupyter-duckdb) (2.9.0.post0)\n",
      "Requirement already satisfied: cffi>=1.0.0 in /shared/centos7/anaconda3/2021.05/lib/python3.8/site-packages (from argon2-cffi->notebook->jupyter->jupyter-duckdb) (1.14.5)\n",
      "Requirement already satisfied: pycparser in /shared/centos7/anaconda3/2021.05/lib/python3.8/site-packages (from cffi>=1.0.0->argon2-cffi->notebook->jupyter->jupyter-duckdb) (2.20)\n",
      "Requirement already satisfied: MarkupSafe>=0.23 in /shared/centos7/anaconda3/2021.05/lib/python3.8/site-packages (from jinja2->notebook->jupyter->jupyter-duckdb) (1.1.1)\n",
      "Requirement already satisfied: jupyterlab-pygments in /shared/centos7/anaconda3/2021.05/lib/python3.8/site-packages (from nbconvert->jupyter->jupyter-duckdb) (0.1.2)\n",
      "Requirement already satisfied: pandocfilters>=1.4.1 in /shared/centos7/anaconda3/2021.05/lib/python3.8/site-packages (from nbconvert->jupyter->jupyter-duckdb) (1.4.3)\n",
      "Requirement already satisfied: defusedxml in /shared/centos7/anaconda3/2021.05/lib/python3.8/site-packages (from nbconvert->jupyter->jupyter-duckdb) (0.7.1)\n",
      "Requirement already satisfied: nbclient<0.6.0,>=0.5.0 in /shared/centos7/anaconda3/2021.05/lib/python3.8/site-packages (from nbconvert->jupyter->jupyter-duckdb) (0.5.3)\n",
      "Requirement already satisfied: bleach in /shared/centos7/anaconda3/2021.05/lib/python3.8/site-packages (from nbconvert->jupyter->jupyter-duckdb) (3.3.0)\n",
      "Requirement already satisfied: mistune<2,>=0.8.1 in /shared/centos7/anaconda3/2021.05/lib/python3.8/site-packages (from nbconvert->jupyter->jupyter-duckdb) (0.8.4)\n",
      "Requirement already satisfied: entrypoints>=0.2.2 in /shared/centos7/anaconda3/2021.05/lib/python3.8/site-packages (from nbconvert->jupyter->jupyter-duckdb) (0.3)\n",
      "Requirement already satisfied: testpath in /shared/centos7/anaconda3/2021.05/lib/python3.8/site-packages (from nbconvert->jupyter->jupyter-duckdb) (0.4.4)\n",
      "Requirement already satisfied: async-generator in /shared/centos7/anaconda3/2021.05/lib/python3.8/site-packages (from nbclient<0.6.0,>=0.5.0->nbconvert->jupyter->jupyter-duckdb) (1.10)\n",
      "Requirement already satisfied: nest-asyncio in /shared/centos7/anaconda3/2021.05/lib/python3.8/site-packages (from nbclient<0.6.0,>=0.5.0->nbconvert->jupyter->jupyter-duckdb) (1.5.1)\n",
      "Requirement already satisfied: webencodings in /shared/centos7/anaconda3/2021.05/lib/python3.8/site-packages (from bleach->nbconvert->jupyter->jupyter-duckdb) (0.5.1)\n",
      "Requirement already satisfied: packaging in /shared/centos7/anaconda3/2021.05/lib/python3.8/site-packages (from bleach->nbconvert->jupyter->jupyter-duckdb) (20.9)\n",
      "Requirement already satisfied: pyparsing>=2.0.2 in /shared/centos7/anaconda3/2021.05/lib/python3.8/site-packages (from packaging->bleach->nbconvert->jupyter->jupyter-duckdb) (2.4.7)\n",
      "Requirement already satisfied: qtpy in /shared/centos7/anaconda3/2021.05/lib/python3.8/site-packages (from qtconsole->jupyter->jupyter-duckdb) (1.9.0)\n"
     ]
    }
   ],
   "source": [
    "!pip install jupyter-duckdb"
   ]
  },
  {
   "cell_type": "code",
   "execution_count": 3,
   "id": "5349cf33-4ca3-48de-be20-3be15e688415",
   "metadata": {},
   "outputs": [
    {
     "name": "stdout",
     "output_type": "stream",
     "text": [
      "Defaulting to user installation because normal site-packages is not writeable\n",
      "Requirement already satisfied: rdkit in ./.local/lib/python3.8/site-packages (2024.3.2)\n",
      "Requirement already satisfied: numpy in ./.local/lib/python3.8/site-packages (from rdkit) (1.22.4)\n",
      "Requirement already satisfied: Pillow in /shared/centos7/anaconda3/2021.05/lib/python3.8/site-packages (from rdkit) (8.2.0)\n"
     ]
    }
   ],
   "source": [
    "!pip install rdkit"
   ]
  },
  {
   "cell_type": "code",
   "execution_count": 4,
   "id": "a6653330-805e-4bfc-99a0-9913a3ee087b",
   "metadata": {},
   "outputs": [],
   "source": [
    "import duckdb"
   ]
  },
  {
   "cell_type": "code",
   "execution_count": 5,
   "id": "64d6204d-7dcf-4343-8279-e2db5f55b75c",
   "metadata": {},
   "outputs": [
    {
     "data": {
      "application/vnd.jupyter.widget-view+json": {
       "model_id": "8f0a2af4958042ce87a0c9f79cc9811a",
       "version_major": 2,
       "version_minor": 0
      },
      "text/plain": [
       "FloatProgress(value=0.0, layout=Layout(width='auto'), style=ProgressStyle(bar_color='black'))"
      ]
     },
     "metadata": {},
     "output_type": "display_data"
    },
    {
     "data": {
      "application/vnd.jupyter.widget-view+json": {
       "model_id": "eefd1554400e46e4b96f9c6098cd09d0",
       "version_major": 2,
       "version_minor": 0
      },
      "text/plain": [
       "FloatProgress(value=0.0, layout=Layout(width='auto'), style=ProgressStyle(bar_color='black'))"
      ]
     },
     "metadata": {},
     "output_type": "display_data"
    }
   ],
   "source": [
    "train_path = '/scratch/namana.s/train.parquet'\n",
    "\n",
    "con = duckdb.connect()\n",
    "\n",
    "one_binds = con.query(f\"\"\"(SELECT count(*)\n",
    "                FROM parquet_scan('{train_path}')\n",
    "                WHERE binds = 1)\n",
    "\"\"\").fetchone()[0]\n",
    "\n",
    "df_train = con.query(f\"\"\"(SELECT *\n",
    "                        FROM parquet_scan('{train_path}')\n",
    "                        WHERE binds = 0\n",
    "                        ORDER BY random()\n",
    "                        LIMIT {one_binds})\n",
    "                        UNION ALL\n",
    "                        (SELECT *\n",
    "                        FROM parquet_scan('{train_path}')\n",
    "                        WHERE binds = 1)\"\"\").df()"
   ]
  },
  {
   "cell_type": "code",
   "execution_count": 6,
   "id": "6a11a601-f4ca-4caa-a1b2-622096331f0b",
   "metadata": {},
   "outputs": [],
   "source": [
    "test_path = '/scratch/namana.s/test.parquet'\n",
    "\n",
    "df_test=con.query(f\"\"\"(SELECT *\n",
    "                        FROM parquet_scan('{test_path}')\n",
    "                        )\"\"\").df()"
   ]
  },
  {
   "cell_type": "code",
   "execution_count": 7,
   "id": "2f3e0efe-6ead-4a2c-a97c-762ae6a27bc1",
   "metadata": {},
   "outputs": [
    {
     "data": {
      "text/plain": [
       "id                       3179812\n",
       "buildingblock1_smiles    3179812\n",
       "buildingblock2_smiles    3179812\n",
       "buildingblock3_smiles    3179812\n",
       "molecule_smiles          3179812\n",
       "protein_name             3179812\n",
       "binds                    3179812\n",
       "dtype: int64"
      ]
     },
     "execution_count": 7,
     "metadata": {},
     "output_type": "execute_result"
    }
   ],
   "source": [
    "df_train.count()"
   ]
  },
  {
   "cell_type": "code",
   "execution_count": 8,
   "id": "5b2a8f46-4274-404b-a682-47f935d8341e",
   "metadata": {},
   "outputs": [
    {
     "data": {
      "text/plain": [
       "id                       1674896\n",
       "buildingblock1_smiles    1674896\n",
       "buildingblock2_smiles    1674896\n",
       "buildingblock3_smiles    1674896\n",
       "molecule_smiles          1674896\n",
       "protein_name             1674896\n",
       "dtype: int64"
      ]
     },
     "execution_count": 8,
     "metadata": {},
     "output_type": "execute_result"
    }
   ],
   "source": [
    "df_test.count()"
   ]
  },
  {
   "cell_type": "code",
   "execution_count": 9,
   "id": "8ce055be-2c85-4433-a27e-d853f05a7329",
   "metadata": {},
   "outputs": [
    {
     "data": {
      "text/html": [
       "<div>\n",
       "<style scoped>\n",
       "    .dataframe tbody tr th:only-of-type {\n",
       "        vertical-align: middle;\n",
       "    }\n",
       "\n",
       "    .dataframe tbody tr th {\n",
       "        vertical-align: top;\n",
       "    }\n",
       "\n",
       "    .dataframe thead th {\n",
       "        text-align: right;\n",
       "    }\n",
       "</style>\n",
       "<table border=\"1\" class=\"dataframe\">\n",
       "  <thead>\n",
       "    <tr style=\"text-align: right;\">\n",
       "      <th></th>\n",
       "      <th>binds</th>\n",
       "      <th>binds_count</th>\n",
       "    </tr>\n",
       "  </thead>\n",
       "  <tbody>\n",
       "    <tr>\n",
       "      <th>0</th>\n",
       "      <td>0</td>\n",
       "      <td>293656924</td>\n",
       "    </tr>\n",
       "    <tr>\n",
       "      <th>1</th>\n",
       "      <td>1</td>\n",
       "      <td>1589906</td>\n",
       "    </tr>\n",
       "  </tbody>\n",
       "</table>\n",
       "</div>"
      ],
      "text/plain": [
       "   binds  binds_count\n",
       "0      0    293656924\n",
       "1      1      1589906"
      ]
     },
     "execution_count": 9,
     "metadata": {},
     "output_type": "execute_result"
    }
   ],
   "source": [
    "binds_count = con.query(f\"\"\"\n",
    "(SELECT binds, count(*) as binds_count FROM parquet_scan('{train_path}') GROUP BY binds)\n",
    "\"\"\").df()\n",
    "binds_count"
   ]
  },
  {
   "cell_type": "code",
   "execution_count": 10,
   "id": "43ff4c14-2da7-473c-8268-4f68407f1ee5",
   "metadata": {},
   "outputs": [
    {
     "data": {
      "text/html": [
       "<div>\n",
       "<style scoped>\n",
       "    .dataframe tbody tr th:only-of-type {\n",
       "        vertical-align: middle;\n",
       "    }\n",
       "\n",
       "    .dataframe tbody tr th {\n",
       "        vertical-align: top;\n",
       "    }\n",
       "\n",
       "    .dataframe thead th {\n",
       "        text-align: right;\n",
       "    }\n",
       "</style>\n",
       "<table border=\"1\" class=\"dataframe\">\n",
       "  <thead>\n",
       "    <tr style=\"text-align: right;\">\n",
       "      <th></th>\n",
       "      <th>binds</th>\n",
       "      <th>binds_count</th>\n",
       "    </tr>\n",
       "  </thead>\n",
       "  <tbody>\n",
       "    <tr>\n",
       "      <th>0</th>\n",
       "      <td>0</td>\n",
       "      <td>1589906</td>\n",
       "    </tr>\n",
       "    <tr>\n",
       "      <th>1</th>\n",
       "      <td>1</td>\n",
       "      <td>1589906</td>\n",
       "    </tr>\n",
       "  </tbody>\n",
       "</table>\n",
       "</div>"
      ],
      "text/plain": [
       "   binds  binds_count\n",
       "0      0      1589906\n",
       "1      1      1589906"
      ]
     },
     "execution_count": 10,
     "metadata": {},
     "output_type": "execute_result"
    }
   ],
   "source": [
    "con.register('df_train', df_train)\n",
    "\n",
    "binds_count_filtered = con.query(\"\"\"\n",
    "    SELECT binds, count(*) as binds_count \n",
    "    FROM df_train \n",
    "    GROUP BY binds\n",
    "\"\"\").df()\n",
    "\n",
    "binds_count_filtered.sort_values(by='binds').reset_index(drop=True)"
   ]
  },
  {
   "cell_type": "code",
   "execution_count": 11,
   "id": "a4b5fa88-a003-4a34-a611-26f8e1eee020",
   "metadata": {},
   "outputs": [
    {
     "data": {
      "text/html": [
       "<div>\n",
       "<style scoped>\n",
       "    .dataframe tbody tr th:only-of-type {\n",
       "        vertical-align: middle;\n",
       "    }\n",
       "\n",
       "    .dataframe tbody tr th {\n",
       "        vertical-align: top;\n",
       "    }\n",
       "\n",
       "    .dataframe thead th {\n",
       "        text-align: right;\n",
       "    }\n",
       "</style>\n",
       "<table border=\"1\" class=\"dataframe\">\n",
       "  <thead>\n",
       "    <tr style=\"text-align: right;\">\n",
       "      <th></th>\n",
       "      <th>protein_name</th>\n",
       "      <th>protein_name_count</th>\n",
       "    </tr>\n",
       "  </thead>\n",
       "  <tbody>\n",
       "    <tr>\n",
       "      <th>0</th>\n",
       "      <td>BRD4</td>\n",
       "      <td>98415610</td>\n",
       "    </tr>\n",
       "    <tr>\n",
       "      <th>1</th>\n",
       "      <td>HSA</td>\n",
       "      <td>98415610</td>\n",
       "    </tr>\n",
       "    <tr>\n",
       "      <th>2</th>\n",
       "      <td>sEH</td>\n",
       "      <td>98415610</td>\n",
       "    </tr>\n",
       "  </tbody>\n",
       "</table>\n",
       "</div>"
      ],
      "text/plain": [
       "  protein_name  protein_name_count\n",
       "0         BRD4            98415610\n",
       "1          HSA            98415610\n",
       "2          sEH            98415610"
      ]
     },
     "execution_count": 11,
     "metadata": {},
     "output_type": "execute_result"
    }
   ],
   "source": [
    "protein_count = con.query(f\"\"\"\n",
    "(SELECT protein_name, count(*) as protein_name_count FROM parquet_scan('{train_path}') GROUP BY protein_name)\n",
    "\"\"\").df()\n",
    "protein_count.sort_values(by='protein_name').reset_index(drop=True)"
   ]
  },
  {
   "cell_type": "code",
   "execution_count": 12,
   "id": "61af3487-c3b2-4a6a-b41b-d637d4213bb2",
   "metadata": {},
   "outputs": [
    {
     "data": {
      "text/html": [
       "<div>\n",
       "<style scoped>\n",
       "    .dataframe tbody tr th:only-of-type {\n",
       "        vertical-align: middle;\n",
       "    }\n",
       "\n",
       "    .dataframe tbody tr th {\n",
       "        vertical-align: top;\n",
       "    }\n",
       "\n",
       "    .dataframe thead th {\n",
       "        text-align: right;\n",
       "    }\n",
       "</style>\n",
       "<table border=\"1\" class=\"dataframe\">\n",
       "  <thead>\n",
       "    <tr style=\"text-align: right;\">\n",
       "      <th></th>\n",
       "      <th>protein_name</th>\n",
       "      <th>protein_name_count</th>\n",
       "    </tr>\n",
       "  </thead>\n",
       "  <tbody>\n",
       "    <tr>\n",
       "      <th>0</th>\n",
       "      <td>sEH</td>\n",
       "      <td>1253323</td>\n",
       "    </tr>\n",
       "    <tr>\n",
       "      <th>1</th>\n",
       "      <td>HSA</td>\n",
       "      <td>939333</td>\n",
       "    </tr>\n",
       "    <tr>\n",
       "      <th>2</th>\n",
       "      <td>BRD4</td>\n",
       "      <td>987156</td>\n",
       "    </tr>\n",
       "  </tbody>\n",
       "</table>\n",
       "</div>"
      ],
      "text/plain": [
       "  protein_name  protein_name_count\n",
       "0          sEH             1253323\n",
       "1          HSA              939333\n",
       "2         BRD4              987156"
      ]
     },
     "execution_count": 12,
     "metadata": {},
     "output_type": "execute_result"
    }
   ],
   "source": [
    "protein_count_filtered = con.query(f\"\"\"\n",
    "(SELECT protein_name, count(*) as protein_name_count FROM df_train GROUP BY protein_name)\n",
    "\"\"\").df()\n",
    "protein_count_filtered"
   ]
  },
  {
   "cell_type": "code",
   "execution_count": 13,
   "id": "3a32475f-98b1-428d-8999-83c63cacc84a",
   "metadata": {},
   "outputs": [
    {
     "data": {
      "text/html": [
       "<div>\n",
       "<style scoped>\n",
       "    .dataframe tbody tr th:only-of-type {\n",
       "        vertical-align: middle;\n",
       "    }\n",
       "\n",
       "    .dataframe tbody tr th {\n",
       "        vertical-align: top;\n",
       "    }\n",
       "\n",
       "    .dataframe thead th {\n",
       "        text-align: right;\n",
       "    }\n",
       "</style>\n",
       "<table border=\"1\" class=\"dataframe\">\n",
       "  <thead>\n",
       "    <tr style=\"text-align: right;\">\n",
       "      <th></th>\n",
       "      <th>protein_name</th>\n",
       "      <th>binds</th>\n",
       "      <th>binds_per_protein</th>\n",
       "    </tr>\n",
       "  </thead>\n",
       "  <tbody>\n",
       "    <tr>\n",
       "      <th>0</th>\n",
       "      <td>BRD4</td>\n",
       "      <td>0</td>\n",
       "      <td>97958646</td>\n",
       "    </tr>\n",
       "    <tr>\n",
       "      <th>1</th>\n",
       "      <td>BRD4</td>\n",
       "      <td>1</td>\n",
       "      <td>456964</td>\n",
       "    </tr>\n",
       "    <tr>\n",
       "      <th>2</th>\n",
       "      <td>HSA</td>\n",
       "      <td>0</td>\n",
       "      <td>98007200</td>\n",
       "    </tr>\n",
       "    <tr>\n",
       "      <th>3</th>\n",
       "      <td>HSA</td>\n",
       "      <td>1</td>\n",
       "      <td>408410</td>\n",
       "    </tr>\n",
       "    <tr>\n",
       "      <th>4</th>\n",
       "      <td>sEH</td>\n",
       "      <td>0</td>\n",
       "      <td>97691078</td>\n",
       "    </tr>\n",
       "    <tr>\n",
       "      <th>5</th>\n",
       "      <td>sEH</td>\n",
       "      <td>1</td>\n",
       "      <td>724532</td>\n",
       "    </tr>\n",
       "  </tbody>\n",
       "</table>\n",
       "</div>"
      ],
      "text/plain": [
       "  protein_name  binds  binds_per_protein\n",
       "0         BRD4      0           97958646\n",
       "1         BRD4      1             456964\n",
       "2          HSA      0           98007200\n",
       "3          HSA      1             408410\n",
       "4          sEH      0           97691078\n",
       "5          sEH      1             724532"
      ]
     },
     "execution_count": 13,
     "metadata": {},
     "output_type": "execute_result"
    }
   ],
   "source": [
    "protein_binds = con.query(f\"\"\"\n",
    "(SELECT protein_name, binds, count(*) as binds_per_protein FROM parquet_scan('{train_path}') GROUP BY protein_name, binds)\n",
    "\"\"\").df()\n",
    "protein_binds.sort_values(by=['protein_name','binds']).reset_index(drop=True)"
   ]
  },
  {
   "cell_type": "code",
   "execution_count": 14,
   "id": "f311601c-8512-465c-8873-0edb935ec3e1",
   "metadata": {},
   "outputs": [
    {
     "data": {
      "text/html": [
       "<div>\n",
       "<style scoped>\n",
       "    .dataframe tbody tr th:only-of-type {\n",
       "        vertical-align: middle;\n",
       "    }\n",
       "\n",
       "    .dataframe tbody tr th {\n",
       "        vertical-align: top;\n",
       "    }\n",
       "\n",
       "    .dataframe thead th {\n",
       "        text-align: right;\n",
       "    }\n",
       "</style>\n",
       "<table border=\"1\" class=\"dataframe\">\n",
       "  <thead>\n",
       "    <tr style=\"text-align: right;\">\n",
       "      <th></th>\n",
       "      <th>protein_name</th>\n",
       "      <th>binds</th>\n",
       "      <th>binds_per_protein</th>\n",
       "    </tr>\n",
       "  </thead>\n",
       "  <tbody>\n",
       "    <tr>\n",
       "      <th>0</th>\n",
       "      <td>BRD4</td>\n",
       "      <td>0</td>\n",
       "      <td>530192</td>\n",
       "    </tr>\n",
       "    <tr>\n",
       "      <th>1</th>\n",
       "      <td>BRD4</td>\n",
       "      <td>1</td>\n",
       "      <td>456964</td>\n",
       "    </tr>\n",
       "    <tr>\n",
       "      <th>2</th>\n",
       "      <td>HSA</td>\n",
       "      <td>0</td>\n",
       "      <td>530923</td>\n",
       "    </tr>\n",
       "    <tr>\n",
       "      <th>3</th>\n",
       "      <td>HSA</td>\n",
       "      <td>1</td>\n",
       "      <td>408410</td>\n",
       "    </tr>\n",
       "    <tr>\n",
       "      <th>4</th>\n",
       "      <td>sEH</td>\n",
       "      <td>0</td>\n",
       "      <td>528791</td>\n",
       "    </tr>\n",
       "    <tr>\n",
       "      <th>5</th>\n",
       "      <td>sEH</td>\n",
       "      <td>1</td>\n",
       "      <td>724532</td>\n",
       "    </tr>\n",
       "  </tbody>\n",
       "</table>\n",
       "</div>"
      ],
      "text/plain": [
       "  protein_name  binds  binds_per_protein\n",
       "0         BRD4      0             530192\n",
       "1         BRD4      1             456964\n",
       "2          HSA      0             530923\n",
       "3          HSA      1             408410\n",
       "4          sEH      0             528791\n",
       "5          sEH      1             724532"
      ]
     },
     "execution_count": 14,
     "metadata": {},
     "output_type": "execute_result"
    }
   ],
   "source": [
    "protein_binds_filtered = con.query(f\"\"\"\n",
    "(SELECT protein_name, binds, count(*) as binds_per_protein FROM df_train GROUP BY protein_name, binds)\n",
    "\"\"\").df()\n",
    "protein_binds_filtered.sort_values(by=['protein_name','binds']).reset_index(drop=True)"
   ]
  },
  {
   "cell_type": "code",
   "execution_count": 7,
   "id": "f634cf53-6bc6-4797-99cb-bf5eaf71c652",
   "metadata": {},
   "outputs": [
    {
     "ename": "RuntimeError",
     "evalue": "module compiled against API version 0x10 but this version of numpy is 0xf . Check the section C-API incompatibility at the Troubleshooting ImportError section at https://numpy.org/devdocs/user/troubleshooting-importerror.html#c-api-incompatibility for indications on how to solve this problem .",
     "output_type": "error",
     "traceback": [
      "\u001b[0;31m---------------------------------------------------------------------------\u001b[0m",
      "\u001b[0;31mRuntimeError\u001b[0m                              Traceback (most recent call last)",
      "\u001b[0;31mRuntimeError\u001b[0m: module compiled against API version 0x10 but this version of numpy is 0xf . Check the section C-API incompatibility at the Troubleshooting ImportError section at https://numpy.org/devdocs/user/troubleshooting-importerror.html#c-api-incompatibility for indications on how to solve this problem ."
     ]
    },
    {
     "ename": "RuntimeError",
     "evalue": "module compiled against API version 0x10 but this version of numpy is 0xf . Check the section C-API incompatibility at the Troubleshooting ImportError section at https://numpy.org/devdocs/user/troubleshooting-importerror.html#c-api-incompatibility for indications on how to solve this problem .",
     "output_type": "error",
     "traceback": [
      "\u001b[0;31m---------------------------------------------------------------------------\u001b[0m",
      "\u001b[0;31mRuntimeError\u001b[0m                              Traceback (most recent call last)",
      "\u001b[0;31mRuntimeError\u001b[0m: module compiled against API version 0x10 but this version of numpy is 0xf . Check the section C-API incompatibility at the Troubleshooting ImportError section at https://numpy.org/devdocs/user/troubleshooting-importerror.html#c-api-incompatibility for indications on how to solve this problem ."
     ]
    },
    {
     "ename": "RuntimeError",
     "evalue": "module compiled against API version 0x10 but this version of numpy is 0xf . Check the section C-API incompatibility at the Troubleshooting ImportError section at https://numpy.org/devdocs/user/troubleshooting-importerror.html#c-api-incompatibility for indications on how to solve this problem .",
     "output_type": "error",
     "traceback": [
      "\u001b[0;31m---------------------------------------------------------------------------\u001b[0m",
      "\u001b[0;31mRuntimeError\u001b[0m                              Traceback (most recent call last)",
      "\u001b[0;31mRuntimeError\u001b[0m: module compiled against API version 0x10 but this version of numpy is 0xf . Check the section C-API incompatibility at the Troubleshooting ImportError section at https://numpy.org/devdocs/user/troubleshooting-importerror.html#c-api-incompatibility for indications on how to solve this problem ."
     ]
    },
    {
     "ename": "RuntimeError",
     "evalue": "module compiled against API version 0x10 but this version of numpy is 0xf . Check the section C-API incompatibility at the Troubleshooting ImportError section at https://numpy.org/devdocs/user/troubleshooting-importerror.html#c-api-incompatibility for indications on how to solve this problem .",
     "output_type": "error",
     "traceback": [
      "\u001b[0;31m---------------------------------------------------------------------------\u001b[0m",
      "\u001b[0;31mRuntimeError\u001b[0m                              Traceback (most recent call last)",
      "\u001b[0;31mRuntimeError\u001b[0m: module compiled against API version 0x10 but this version of numpy is 0xf . Check the section C-API incompatibility at the Troubleshooting ImportError section at https://numpy.org/devdocs/user/troubleshooting-importerror.html#c-api-incompatibility for indications on how to solve this problem ."
     ]
    },
    {
     "ename": "RuntimeError",
     "evalue": "module compiled against API version 0x10 but this version of numpy is 0xf . Check the section C-API incompatibility at the Troubleshooting ImportError section at https://numpy.org/devdocs/user/troubleshooting-importerror.html#c-api-incompatibility for indications on how to solve this problem .",
     "output_type": "error",
     "traceback": [
      "\u001b[0;31m---------------------------------------------------------------------------\u001b[0m",
      "\u001b[0;31mRuntimeError\u001b[0m                              Traceback (most recent call last)",
      "\u001b[0;31mRuntimeError\u001b[0m: module compiled against API version 0x10 but this version of numpy is 0xf . Check the section C-API incompatibility at the Troubleshooting ImportError section at https://numpy.org/devdocs/user/troubleshooting-importerror.html#c-api-incompatibility for indications on how to solve this problem ."
     ]
    },
    {
     "ename": "RuntimeError",
     "evalue": "module compiled against API version 0x10 but this version of numpy is 0xf . Check the section C-API incompatibility at the Troubleshooting ImportError section at https://numpy.org/devdocs/user/troubleshooting-importerror.html#c-api-incompatibility for indications on how to solve this problem .",
     "output_type": "error",
     "traceback": [
      "\u001b[0;31m---------------------------------------------------------------------------\u001b[0m",
      "\u001b[0;31mRuntimeError\u001b[0m                              Traceback (most recent call last)",
      "\u001b[0;31mRuntimeError\u001b[0m: module compiled against API version 0x10 but this version of numpy is 0xf . Check the section C-API incompatibility at the Troubleshooting ImportError section at https://numpy.org/devdocs/user/troubleshooting-importerror.html#c-api-incompatibility for indications on how to solve this problem ."
     ]
    },
    {
     "ename": "RuntimeError",
     "evalue": "module compiled against API version 0x10 but this version of numpy is 0xf . Check the section C-API incompatibility at the Troubleshooting ImportError section at https://numpy.org/devdocs/user/troubleshooting-importerror.html#c-api-incompatibility for indications on how to solve this problem .",
     "output_type": "error",
     "traceback": [
      "\u001b[0;31m---------------------------------------------------------------------------\u001b[0m",
      "\u001b[0;31mRuntimeError\u001b[0m                              Traceback (most recent call last)",
      "\u001b[0;31mRuntimeError\u001b[0m: module compiled against API version 0x10 but this version of numpy is 0xf . Check the section C-API incompatibility at the Troubleshooting ImportError section at https://numpy.org/devdocs/user/troubleshooting-importerror.html#c-api-incompatibility for indications on how to solve this problem ."
     ]
    },
    {
     "ename": "RuntimeError",
     "evalue": "module compiled against API version 0x10 but this version of numpy is 0xf . Check the section C-API incompatibility at the Troubleshooting ImportError section at https://numpy.org/devdocs/user/troubleshooting-importerror.html#c-api-incompatibility for indications on how to solve this problem .",
     "output_type": "error",
     "traceback": [
      "\u001b[0;31m---------------------------------------------------------------------------\u001b[0m",
      "\u001b[0;31mRuntimeError\u001b[0m                              Traceback (most recent call last)",
      "\u001b[0;31mRuntimeError\u001b[0m: module compiled against API version 0x10 but this version of numpy is 0xf . Check the section C-API incompatibility at the Troubleshooting ImportError section at https://numpy.org/devdocs/user/troubleshooting-importerror.html#c-api-incompatibility for indications on how to solve this problem ."
     ]
    },
    {
     "ename": "RuntimeError",
     "evalue": "module compiled against API version 0x10 but this version of numpy is 0xf . Check the section C-API incompatibility at the Troubleshooting ImportError section at https://numpy.org/devdocs/user/troubleshooting-importerror.html#c-api-incompatibility for indications on how to solve this problem .",
     "output_type": "error",
     "traceback": [
      "\u001b[0;31m---------------------------------------------------------------------------\u001b[0m",
      "\u001b[0;31mRuntimeError\u001b[0m                              Traceback (most recent call last)",
      "\u001b[0;31mRuntimeError\u001b[0m: module compiled against API version 0x10 but this version of numpy is 0xf . Check the section C-API incompatibility at the Troubleshooting ImportError section at https://numpy.org/devdocs/user/troubleshooting-importerror.html#c-api-incompatibility for indications on how to solve this problem ."
     ]
    },
    {
     "ename": "RuntimeError",
     "evalue": "module compiled against API version 0x10 but this version of numpy is 0xf . Check the section C-API incompatibility at the Troubleshooting ImportError section at https://numpy.org/devdocs/user/troubleshooting-importerror.html#c-api-incompatibility for indications on how to solve this problem .",
     "output_type": "error",
     "traceback": [
      "\u001b[0;31m---------------------------------------------------------------------------\u001b[0m",
      "\u001b[0;31mRuntimeError\u001b[0m                              Traceback (most recent call last)",
      "\u001b[0;31mRuntimeError\u001b[0m: module compiled against API version 0x10 but this version of numpy is 0xf . Check the section C-API incompatibility at the Troubleshooting ImportError section at https://numpy.org/devdocs/user/troubleshooting-importerror.html#c-api-incompatibility for indications on how to solve this problem ."
     ]
    },
    {
     "ename": "RuntimeError",
     "evalue": "module compiled against API version 0x10 but this version of numpy is 0xf . Check the section C-API incompatibility at the Troubleshooting ImportError section at https://numpy.org/devdocs/user/troubleshooting-importerror.html#c-api-incompatibility for indications on how to solve this problem .",
     "output_type": "error",
     "traceback": [
      "\u001b[0;31m---------------------------------------------------------------------------\u001b[0m",
      "\u001b[0;31mRuntimeError\u001b[0m                              Traceback (most recent call last)",
      "\u001b[0;31mRuntimeError\u001b[0m: module compiled against API version 0x10 but this version of numpy is 0xf . Check the section C-API incompatibility at the Troubleshooting ImportError section at https://numpy.org/devdocs/user/troubleshooting-importerror.html#c-api-incompatibility for indications on how to solve this problem ."
     ]
    }
   ],
   "source": [
    "import pandas as pd\n",
    "from rdkit import Chem\n",
    "from rdkit.Chem import Draw, AllChem\n",
    "import seaborn as sns\n",
    "import matplotlib.pyplot as plt"
   ]
  },
  {
   "cell_type": "code",
   "execution_count": 8,
   "id": "8aa04d4d-c0d3-4ae4-aefa-330295b535d8",
   "metadata": {},
   "outputs": [
    {
     "name": "stdout",
     "output_type": "stream",
     "text": [
      "Building Block 1 Frequency:\n",
      "                                                    bb1  count\n",
      "171  [N-]=[N+]=NCCC[C@H](NC(=O)OCC1c2ccccc2-c2ccccc...   8467\n",
      "212  O=C(O)[C@H]1Cc2ccccc2CN1C(=O)OCC1c2ccccc2-c2cc...   7484\n",
      "162  O=C(O)[C@H]1C[C@H](O)CN1C(=O)OCC1c2ccccc2-c2cc...   8724\n",
      "205      O=C(O)[C@H]1COCCN1C(=O)OCC1c2ccccc2-c2ccccc21   7692\n",
      "183        O=C(O)[C@H]1CCN1C(=O)OCC1c2ccccc2-c2ccccc21   8173\n",
      "Building Block 2 Frequency:\n",
      "                         bb2  count\n",
      "281       Nc1noc2ccc(F)cc12   4359\n",
      "18                 Nc1nncs1  12463\n",
      "584             Nc1nnc(S)s1   2189\n",
      "64              Nc1ncncc1Br   6825\n",
      "683  Nc1ncnc2c1ncn2C1CCCCO1   1313\n",
      "Building Block 3 Frequency:\n",
      "                    bb3  count\n",
      "659  Nc1noc2ccc(F)cc12   1545\n",
      "13         Nc1nnn[nH]1  11288\n",
      "238           Nc1nncs1   4634\n",
      "266        Nc1nnc(S)s1   4310\n",
      "852        Nc1ncncc1Br    171\n"
     ]
    }
   ],
   "source": [
    "bb1_freq = df_train['buildingblock1_smiles'].value_counts().reset_index().sort_values(by='buildingblock1_smiles', ascending=False).rename({'buildingblock1_smiles': 'bb1'}, axis=1).head(5)\n",
    "bb2_freq = df_train['buildingblock2_smiles'].value_counts().reset_index().sort_values(by='buildingblock2_smiles', ascending=False).rename({'buildingblock2_smiles': 'bb2'}, axis=1).head(5)\n",
    "bb3_freq = df_train['buildingblock3_smiles'].value_counts().reset_index().sort_values(by='buildingblock3_smiles', ascending=False).rename({'buildingblock3_smiles': 'bb3'}, axis=1).head(5)\n",
    "\n",
    "print(\"Building Block 1 Frequency:\\n\", bb1_freq)\n",
    "print(\"Building Block 2 Frequency:\\n\", bb2_freq)\n",
    "print(\"Building Block 3 Frequency:\\n\", bb3_freq)"
   ]
  },
  {
   "cell_type": "code",
   "execution_count": 9,
   "id": "c8cd41c0-e243-4c5f-ba07-126788240708",
   "metadata": {},
   "outputs": [],
   "source": [
    "def plot_mols(df, mol_count, col_name):\n",
    "    df2=df.reset_index(drop=True)\n",
    "    mols = []\n",
    "    for i in range(mol_count):\n",
    "        mols+=[Chem.MolFromSmiles(df2[col_name][i])]\n",
    "    return Draw.MolsToGridImage(mols, molsPerRow=5, subImgSize=(400,300))"
   ]
  },
  {
   "cell_type": "code",
   "execution_count": 10,
   "id": "46815a5b-93e6-4789-a2bd-480ed9bb4383",
   "metadata": {},
   "outputs": [
    {
     "data": {
      "image/png": "[encoded data removed]",
      "text/plain": [
       "<IPython.core.display.Image object>"
      ]
     },
     "execution_count": 10,
     "metadata": {},
     "output_type": "execute_result"
    }
   ],
   "source": [
    "plot_mols(bb1_freq, 5, 'bb1')"
   ]
  },
  {
   "cell_type": "code",
   "execution_count": 11,
   "id": "52c147da-7675-40f8-b751-e41cc5e1b5e5",
   "metadata": {},
   "outputs": [
    {
     "data": {
      "image/png": "[encoded data removed]",
      "text/plain": [
       "<IPython.core.display.Image object>"
      ]
     },
     "execution_count": 11,
     "metadata": {},
     "output_type": "execute_result"
    }
   ],
   "source": [
    "plot_mols(bb2_freq, 5, 'bb2')"
   ]
  },
  {
   "cell_type": "code",
   "execution_count": 12,
   "id": "c750c227-6ceb-4b4e-a200-d98ca4b357cc",
   "metadata": {},
   "outputs": [
    {
     "data": {
      "image/png": "[encoded data removed]",
      "text/plain": [
       "<IPython.core.display.Image object>"
      ]
     },
     "execution_count": 12,
     "metadata": {},
     "output_type": "execute_result"
    }
   ],
   "source": [
    "plot_mols(bb3_freq, 5, 'bb3')"
   ]
  },
  {
   "cell_type": "code",
   "execution_count": 13,
   "id": "8bf28d1f-4740-4015-827c-0edff4c3eb46",
   "metadata": {},
   "outputs": [],
   "source": [
    "df_train['bb1_length'] = df_train['buildingblock1_smiles'].apply(len)\n",
    "df_train['bb2_length'] = df_train['buildingblock2_smiles'].apply(len)\n",
    "df_train['bb3_length'] = df_train['buildingblock3_smiles'].apply(len)\n",
    "df_train['molecule_length'] = df_train['molecule_smiles'].apply(len)"
   ]
  },
  {
   "cell_type": "code",
   "execution_count": 22,
   "id": "187d7a59-0094-4002-8f8d-bcea3188215d",
   "metadata": {},
   "outputs": [
    {
     "data": {
      "text/html": [
       "<div>\n",
       "<style scoped>\n",
       "    .dataframe tbody tr th:only-of-type {\n",
       "        vertical-align: middle;\n",
       "    }\n",
       "\n",
       "    .dataframe tbody tr th {\n",
       "        vertical-align: top;\n",
       "    }\n",
       "\n",
       "    .dataframe thead th {\n",
       "        text-align: right;\n",
       "    }\n",
       "</style>\n",
       "<table border=\"1\" class=\"dataframe\">\n",
       "  <thead>\n",
       "    <tr style=\"text-align: right;\">\n",
       "      <th></th>\n",
       "      <th>id</th>\n",
       "      <th>buildingblock1_smiles</th>\n",
       "      <th>buildingblock2_smiles</th>\n",
       "      <th>buildingblock3_smiles</th>\n",
       "      <th>molecule_smiles</th>\n",
       "      <th>protein_name</th>\n",
       "      <th>binds</th>\n",
       "      <th>bb1_length</th>\n",
       "      <th>bb2_length</th>\n",
       "      <th>bb3_length</th>\n",
       "      <th>molecule_length</th>\n",
       "    </tr>\n",
       "  </thead>\n",
       "  <tbody>\n",
       "    <tr>\n",
       "      <th>0</th>\n",
       "      <td>256581404</td>\n",
       "      <td>O=C(O)C[C@@H](NC(=O)OCC1c2ccccc2-c2ccccc21)c1c...</td>\n",
       "      <td>Cl.NCC12CC3CC(CC(C3)C1)C2</td>\n",
       "      <td>NCc1ccc(C(=O)N2CCCC2)cc1</td>\n",
       "      <td>O=C(C[C@@H](Nc1nc(NCc2ccc(C(=O)N3CCCC3)cc2)nc(...</td>\n",
       "      <td>sEH</td>\n",
       "      <td>0</td>\n",
       "      <td>61</td>\n",
       "      <td>25</td>\n",
       "      <td>24</td>\n",
       "      <td>96</td>\n",
       "    </tr>\n",
       "    <tr>\n",
       "      <th>1</th>\n",
       "      <td>95155626</td>\n",
       "      <td>O=C(N[C@@H](Cc1ccc(Cl)c(Cl)c1)C(=O)O)OCC1c2ccc...</td>\n",
       "      <td>Cc1cc(N)nn1C</td>\n",
       "      <td>Nc1n[nH]c2cc(Cl)ccc12</td>\n",
       "      <td>Cc1cc(Nc2nc(Nc3n[nH]c4cc(Cl)ccc34)nc(N[C@@H](C...</td>\n",
       "      <td>BRD4</td>\n",
       "      <td>0</td>\n",
       "      <td>59</td>\n",
       "      <td>12</td>\n",
       "      <td>21</td>\n",
       "      <td>81</td>\n",
       "    </tr>\n",
       "    <tr>\n",
       "      <th>2</th>\n",
       "      <td>294061496</td>\n",
       "      <td>O=C(O)[C@H]1Cc2ccccc2CN1C(=O)OCC1c2ccccc2-c2cc...</td>\n",
       "      <td>Nc1cccc2c1CN(C1CCC(=O)NC1=O)C2=O</td>\n",
       "      <td>Nc1nc(Cl)c(C=O)c(Cl)n1</td>\n",
       "      <td>O=Cc1c(Cl)nc(Nc2nc(Nc3cccc4c3CN(C3CCC(=O)NC3=O...</td>\n",
       "      <td>sEH</td>\n",
       "      <td>0</td>\n",
       "      <td>51</td>\n",
       "      <td>32</td>\n",
       "      <td>22</td>\n",
       "      <td>93</td>\n",
       "    </tr>\n",
       "    <tr>\n",
       "      <th>3</th>\n",
       "      <td>176261073</td>\n",
       "      <td>O=C(Nc1cc(F)ccc1C(=O)O)OCC1c2ccccc2-c2ccccc21</td>\n",
       "      <td>Nc1cc(Cl)ccc1F</td>\n",
       "      <td>Cl.Cl.NCCCN1CCNC(=O)C1</td>\n",
       "      <td>O=C1CN(CCCNc2nc(Nc3cc(Cl)ccc3F)nc(Nc3cc(F)ccc3...</td>\n",
       "      <td>BRD4</td>\n",
       "      <td>0</td>\n",
       "      <td>45</td>\n",
       "      <td>14</td>\n",
       "      <td>22</td>\n",
       "      <td>64</td>\n",
       "    </tr>\n",
       "    <tr>\n",
       "      <th>4</th>\n",
       "      <td>70801053</td>\n",
       "      <td>N#Cc1cccc(C[C@H](CC(=O)O)NC(=O)OCC2c3ccccc3-c3...</td>\n",
       "      <td>Nc1ncccc1F</td>\n",
       "      <td>CCOc1cc(N)ccn1</td>\n",
       "      <td>CCOc1cc(Nc2nc(Nc3ncccc3F)nc(N[C@@H](CC(=O)N[Dy...</td>\n",
       "      <td>BRD4</td>\n",
       "      <td>0</td>\n",
       "      <td>56</td>\n",
       "      <td>10</td>\n",
       "      <td>14</td>\n",
       "      <td>70</td>\n",
       "    </tr>\n",
       "    <tr>\n",
       "      <th>...</th>\n",
       "      <td>...</td>\n",
       "      <td>...</td>\n",
       "      <td>...</td>\n",
       "      <td>...</td>\n",
       "      <td>...</td>\n",
       "      <td>...</td>\n",
       "      <td>...</td>\n",
       "      <td>...</td>\n",
       "      <td>...</td>\n",
       "      <td>...</td>\n",
       "      <td>...</td>\n",
       "    </tr>\n",
       "    <tr>\n",
       "      <th>3179807</th>\n",
       "      <td>295243165</td>\n",
       "      <td>[N-]=[N+]=NCCC[C@H](NC(=O)OCC1c2ccccc2-c2ccccc...</td>\n",
       "      <td>Nc1nnc(S)s1</td>\n",
       "      <td>NCc1cnc(-c2ccccc2)s1</td>\n",
       "      <td>[N-]=[N+]=NCCC[C@H](Nc1nc(NCc2cnc(-c3ccccc3)s2...</td>\n",
       "      <td>HSA</td>\n",
       "      <td>1</td>\n",
       "      <td>55</td>\n",
       "      <td>11</td>\n",
       "      <td>20</td>\n",
       "      <td>75</td>\n",
       "    </tr>\n",
       "    <tr>\n",
       "      <th>3179808</th>\n",
       "      <td>295243852</td>\n",
       "      <td>[N-]=[N+]=NCCC[C@H](NC(=O)OCC1c2ccccc2-c2ccccc...</td>\n",
       "      <td>Nc1nncs1</td>\n",
       "      <td>Cc1cc(N)n[nH]1</td>\n",
       "      <td>Cc1cc(Nc2nc(Nc3nncs3)nc(N[C@@H](CCCN=[N+]=[N-]...</td>\n",
       "      <td>HSA</td>\n",
       "      <td>1</td>\n",
       "      <td>55</td>\n",
       "      <td>8</td>\n",
       "      <td>14</td>\n",
       "      <td>67</td>\n",
       "    </tr>\n",
       "    <tr>\n",
       "      <th>3179809</th>\n",
       "      <td>295244088</td>\n",
       "      <td>[N-]=[N+]=NCCC[C@H](NC(=O)OCC1c2ccccc2-c2ccccc...</td>\n",
       "      <td>Nc1nncs1</td>\n",
       "      <td>Cl.Cn1cc(N)ccc1=O</td>\n",
       "      <td>Cn1cc(Nc2nc(Nc3nncs3)nc(N[C@@H](CCCN=[N+]=[N-]...</td>\n",
       "      <td>BRD4</td>\n",
       "      <td>1</td>\n",
       "      <td>55</td>\n",
       "      <td>8</td>\n",
       "      <td>17</td>\n",
       "      <td>67</td>\n",
       "    </tr>\n",
       "    <tr>\n",
       "      <th>3179810</th>\n",
       "      <td>295244440</td>\n",
       "      <td>[N-]=[N+]=NCCC[C@H](NC(=O)OCC1c2ccccc2-c2ccccc...</td>\n",
       "      <td>Nc1nncs1</td>\n",
       "      <td>NCCc1nccc(C2CC2)n1</td>\n",
       "      <td>[N-]=[N+]=NCCC[C@H](Nc1nc(NCCc2nccc(C3CC3)n2)n...</td>\n",
       "      <td>HSA</td>\n",
       "      <td>1</td>\n",
       "      <td>55</td>\n",
       "      <td>8</td>\n",
       "      <td>18</td>\n",
       "      <td>70</td>\n",
       "    </tr>\n",
       "    <tr>\n",
       "      <th>3179811</th>\n",
       "      <td>295245834</td>\n",
       "      <td>[N-]=[N+]=NCCC[C@H](NC(=O)OCC1c2ccccc2-c2ccccc...</td>\n",
       "      <td>Nc1noc2ccc(F)cc12</td>\n",
       "      <td>Cl.Cn1cc(N)ccc1=O</td>\n",
       "      <td>Cn1cc(Nc2nc(Nc3noc4ccc(F)cc34)nc(N[C@@H](CCCN=...</td>\n",
       "      <td>BRD4</td>\n",
       "      <td>1</td>\n",
       "      <td>55</td>\n",
       "      <td>17</td>\n",
       "      <td>17</td>\n",
       "      <td>76</td>\n",
       "    </tr>\n",
       "  </tbody>\n",
       "</table>\n",
       "<p>3179812 rows × 11 columns</p>\n",
       "</div>"
      ],
      "text/plain": [
       "                id                              buildingblock1_smiles  \\\n",
       "0        256581404  O=C(O)C[C@@H](NC(=O)OCC1c2ccccc2-c2ccccc21)c1c...   \n",
       "1         95155626  O=C(N[C@@H](Cc1ccc(Cl)c(Cl)c1)C(=O)O)OCC1c2ccc...   \n",
       "2        294061496  O=C(O)[C@H]1Cc2ccccc2CN1C(=O)OCC1c2ccccc2-c2cc...   \n",
       "3        176261073      O=C(Nc1cc(F)ccc1C(=O)O)OCC1c2ccccc2-c2ccccc21   \n",
       "4         70801053  N#Cc1cccc(C[C@H](CC(=O)O)NC(=O)OCC2c3ccccc3-c3...   \n",
       "...            ...                                                ...   \n",
       "3179807  295243165  [N-]=[N+]=NCCC[C@H](NC(=O)OCC1c2ccccc2-c2ccccc...   \n",
       "3179808  295243852  [N-]=[N+]=NCCC[C@H](NC(=O)OCC1c2ccccc2-c2ccccc...   \n",
       "3179809  295244088  [N-]=[N+]=NCCC[C@H](NC(=O)OCC1c2ccccc2-c2ccccc...   \n",
       "3179810  295244440  [N-]=[N+]=NCCC[C@H](NC(=O)OCC1c2ccccc2-c2ccccc...   \n",
       "3179811  295245834  [N-]=[N+]=NCCC[C@H](NC(=O)OCC1c2ccccc2-c2ccccc...   \n",
       "\n",
       "                    buildingblock2_smiles     buildingblock3_smiles  \\\n",
       "0               Cl.NCC12CC3CC(CC(C3)C1)C2  NCc1ccc(C(=O)N2CCCC2)cc1   \n",
       "1                            Cc1cc(N)nn1C     Nc1n[nH]c2cc(Cl)ccc12   \n",
       "2        Nc1cccc2c1CN(C1CCC(=O)NC1=O)C2=O    Nc1nc(Cl)c(C=O)c(Cl)n1   \n",
       "3                          Nc1cc(Cl)ccc1F    Cl.Cl.NCCCN1CCNC(=O)C1   \n",
       "4                              Nc1ncccc1F            CCOc1cc(N)ccn1   \n",
       "...                                   ...                       ...   \n",
       "3179807                       Nc1nnc(S)s1      NCc1cnc(-c2ccccc2)s1   \n",
       "3179808                          Nc1nncs1            Cc1cc(N)n[nH]1   \n",
       "3179809                          Nc1nncs1         Cl.Cn1cc(N)ccc1=O   \n",
       "3179810                          Nc1nncs1        NCCc1nccc(C2CC2)n1   \n",
       "3179811                 Nc1noc2ccc(F)cc12         Cl.Cn1cc(N)ccc1=O   \n",
       "\n",
       "                                           molecule_smiles protein_name  \\\n",
       "0        O=C(C[C@@H](Nc1nc(NCc2ccc(C(=O)N3CCCC3)cc2)nc(...          sEH   \n",
       "1        Cc1cc(Nc2nc(Nc3n[nH]c4cc(Cl)ccc34)nc(N[C@@H](C...         BRD4   \n",
       "2        O=Cc1c(Cl)nc(Nc2nc(Nc3cccc4c3CN(C3CCC(=O)NC3=O...          sEH   \n",
       "3        O=C1CN(CCCNc2nc(Nc3cc(Cl)ccc3F)nc(Nc3cc(F)ccc3...         BRD4   \n",
       "4        CCOc1cc(Nc2nc(Nc3ncccc3F)nc(N[C@@H](CC(=O)N[Dy...         BRD4   \n",
       "...                                                    ...          ...   \n",
       "3179807  [N-]=[N+]=NCCC[C@H](Nc1nc(NCc2cnc(-c3ccccc3)s2...          HSA   \n",
       "3179808  Cc1cc(Nc2nc(Nc3nncs3)nc(N[C@@H](CCCN=[N+]=[N-]...          HSA   \n",
       "3179809  Cn1cc(Nc2nc(Nc3nncs3)nc(N[C@@H](CCCN=[N+]=[N-]...         BRD4   \n",
       "3179810  [N-]=[N+]=NCCC[C@H](Nc1nc(NCCc2nccc(C3CC3)n2)n...          HSA   \n",
       "3179811  Cn1cc(Nc2nc(Nc3noc4ccc(F)cc34)nc(N[C@@H](CCCN=...         BRD4   \n",
       "\n",
       "         binds  bb1_length  bb2_length  bb3_length  molecule_length  \n",
       "0            0          61          25          24               96  \n",
       "1            0          59          12          21               81  \n",
       "2            0          51          32          22               93  \n",
       "3            0          45          14          22               64  \n",
       "4            0          56          10          14               70  \n",
       "...        ...         ...         ...         ...              ...  \n",
       "3179807      1          55          11          20               75  \n",
       "3179808      1          55           8          14               67  \n",
       "3179809      1          55           8          17               67  \n",
       "3179810      1          55           8          18               70  \n",
       "3179811      1          55          17          17               76  \n",
       "\n",
       "[3179812 rows x 11 columns]"
      ]
     },
     "execution_count": 22,
     "metadata": {},
     "output_type": "execute_result"
    }
   ],
   "source": [
    "df_train"
   ]
  },
  {
   "cell_type": "code",
   "execution_count": 14,
   "id": "feabd30b-77dd-4692-a2a9-173a940dcce0",
   "metadata": {},
   "outputs": [
    {
     "data": {
      "text/html": [
       "<div>\n",
       "<style scoped>\n",
       "    .dataframe tbody tr th:only-of-type {\n",
       "        vertical-align: middle;\n",
       "    }\n",
       "\n",
       "    .dataframe tbody tr th {\n",
       "        vertical-align: top;\n",
       "    }\n",
       "\n",
       "    .dataframe thead th {\n",
       "        text-align: right;\n",
       "    }\n",
       "</style>\n",
       "<table border=\"1\" class=\"dataframe\">\n",
       "  <thead>\n",
       "    <tr style=\"text-align: right;\">\n",
       "      <th></th>\n",
       "      <th></th>\n",
       "      <th>binds</th>\n",
       "    </tr>\n",
       "    <tr>\n",
       "      <th>buildingblock1_smiles</th>\n",
       "      <th>bb1_length</th>\n",
       "      <th></th>\n",
       "    </tr>\n",
       "  </thead>\n",
       "  <tbody>\n",
       "    <tr>\n",
       "      <th>O=C(NCC1CCC(C(=O)O)CC1)OCC1c2ccccc2-c2ccccc21</th>\n",
       "      <th>45</th>\n",
       "      <td>260846</td>\n",
       "    </tr>\n",
       "    <tr>\n",
       "      <th>O=C(NC[C@H]1CC[C@H](C(=O)O)CC1)OCC1c2ccccc2-c2ccccc21</th>\n",
       "      <th>53</th>\n",
       "      <td>164425</td>\n",
       "    </tr>\n",
       "    <tr>\n",
       "      <th>CC(C)CC(NC(=O)OCC1c2ccccc2-c2ccccc21)C(=O)O</th>\n",
       "      <th>43</th>\n",
       "      <td>36478</td>\n",
       "    </tr>\n",
       "    <tr>\n",
       "      <th>CC(OC(C)(C)C)C(NC(=O)OCC1c2ccccc2-c2ccccc21)C(=O)O</th>\n",
       "      <th>50</th>\n",
       "      <td>32566</td>\n",
       "    </tr>\n",
       "    <tr>\n",
       "      <th>O=C(NC(Cc1ccccc1)C(=O)O)OCC1c2ccccc2-c2ccccc21</th>\n",
       "      <th>46</th>\n",
       "      <td>30457</td>\n",
       "    </tr>\n",
       "    <tr>\n",
       "      <th>...</th>\n",
       "      <th>...</th>\n",
       "      <td>...</td>\n",
       "    </tr>\n",
       "    <tr>\n",
       "      <th>O=C(Nc1c(Cl)c(Cl)nc(C(=O)O)c1Cl)OCC1c2ccccc2-c2ccccc21</th>\n",
       "      <th>54</th>\n",
       "      <td>55</td>\n",
       "    </tr>\n",
       "    <tr>\n",
       "      <th>O=C(Nc1cc(Cl)nc(C(=O)O)c1Cl)OCC1c2ccccc2-c2ccccc21</th>\n",
       "      <th>50</th>\n",
       "      <td>51</td>\n",
       "    </tr>\n",
       "    <tr>\n",
       "      <th>O=C(Nc1c(Br)cc(C(=O)O)cc1Br)OCC1c2ccccc2-c2ccccc21</th>\n",
       "      <th>50</th>\n",
       "      <td>45</td>\n",
       "    </tr>\n",
       "    <tr>\n",
       "      <th>O=C(Nc1cc(Cl)ncc1C(=O)O)OCC1c2ccccc2-c2ccccc21</th>\n",
       "      <th>46</th>\n",
       "      <td>21</td>\n",
       "    </tr>\n",
       "    <tr>\n",
       "      <th>O=C(Nc1c(Cl)cc(Cl)nc1C(=O)O)OCC1c2ccccc2-c2ccccc21</th>\n",
       "      <th>50</th>\n",
       "      <td>20</td>\n",
       "    </tr>\n",
       "  </tbody>\n",
       "</table>\n",
       "<p>271 rows × 1 columns</p>\n",
       "</div>"
      ],
      "text/plain": [
       "                                                                binds\n",
       "buildingblock1_smiles                              bb1_length        \n",
       "O=C(NCC1CCC(C(=O)O)CC1)OCC1c2ccccc2-c2ccccc21      45          260846\n",
       "O=C(NC[C@H]1CC[C@H](C(=O)O)CC1)OCC1c2ccccc2-c2c... 53          164425\n",
       "CC(C)CC(NC(=O)OCC1c2ccccc2-c2ccccc21)C(=O)O        43           36478\n",
       "CC(OC(C)(C)C)C(NC(=O)OCC1c2ccccc2-c2ccccc21)C(=O)O 50           32566\n",
       "O=C(NC(Cc1ccccc1)C(=O)O)OCC1c2ccccc2-c2ccccc21     46           30457\n",
       "...                                                               ...\n",
       "O=C(Nc1c(Cl)c(Cl)nc(C(=O)O)c1Cl)OCC1c2ccccc2-c2... 54              55\n",
       "O=C(Nc1cc(Cl)nc(C(=O)O)c1Cl)OCC1c2ccccc2-c2ccccc21 50              51\n",
       "O=C(Nc1c(Br)cc(C(=O)O)cc1Br)OCC1c2ccccc2-c2ccccc21 50              45\n",
       "O=C(Nc1cc(Cl)ncc1C(=O)O)OCC1c2ccccc2-c2ccccc21     46              21\n",
       "O=C(Nc1c(Cl)cc(Cl)nc1C(=O)O)OCC1c2ccccc2-c2ccccc21 50              20\n",
       "\n",
       "[271 rows x 1 columns]"
      ]
     },
     "execution_count": 14,
     "metadata": {},
     "output_type": "execute_result"
    }
   ],
   "source": [
    "df_train[['buildingblock1_smiles','bb1_length','binds']].groupby(['buildingblock1_smiles','bb1_length']).agg(sum).sort_values(by='binds', ascending=False)"
   ]
  },
  {
   "cell_type": "code",
   "execution_count": 15,
   "id": "e5e01860-ed83-4645-b98f-211911103054",
   "metadata": {},
   "outputs": [
    {
     "data": {
      "text/html": [
       "<div>\n",
       "<style scoped>\n",
       "    .dataframe tbody tr th:only-of-type {\n",
       "        vertical-align: middle;\n",
       "    }\n",
       "\n",
       "    .dataframe tbody tr th {\n",
       "        vertical-align: top;\n",
       "    }\n",
       "\n",
       "    .dataframe thead th {\n",
       "        text-align: right;\n",
       "    }\n",
       "</style>\n",
       "<table border=\"1\" class=\"dataframe\">\n",
       "  <thead>\n",
       "    <tr style=\"text-align: right;\">\n",
       "      <th></th>\n",
       "      <th></th>\n",
       "      <th>binds</th>\n",
       "    </tr>\n",
       "    <tr>\n",
       "      <th>buildingblock2_smiles</th>\n",
       "      <th>bb2_length</th>\n",
       "      <th></th>\n",
       "    </tr>\n",
       "  </thead>\n",
       "  <tbody>\n",
       "    <tr>\n",
       "      <th>Cl.Cl.NCc1cncc(F)c1</th>\n",
       "      <th>19</th>\n",
       "      <td>64213</td>\n",
       "    </tr>\n",
       "    <tr>\n",
       "      <th>Nc1cc(N2CCNCC2)ccc1[N+](=O)[O-]</th>\n",
       "      <th>31</th>\n",
       "      <td>56276</td>\n",
       "    </tr>\n",
       "    <tr>\n",
       "      <th>Cl.NCc1cnc2n1CCOC2</th>\n",
       "      <th>18</th>\n",
       "      <td>30862</td>\n",
       "    </tr>\n",
       "    <tr>\n",
       "      <th>NCCC1CSC1</th>\n",
       "      <th>9</th>\n",
       "      <td>28190</td>\n",
       "    </tr>\n",
       "    <tr>\n",
       "      <th>CCOC(=O)c1ncccc1N</th>\n",
       "      <th>17</th>\n",
       "      <td>26121</td>\n",
       "    </tr>\n",
       "    <tr>\n",
       "      <th>...</th>\n",
       "      <th>...</th>\n",
       "      <td>...</td>\n",
       "    </tr>\n",
       "    <tr>\n",
       "      <th>Cl.Nc1ccc2cccnc2c1</th>\n",
       "      <th>18</th>\n",
       "      <td>226</td>\n",
       "    </tr>\n",
       "    <tr>\n",
       "      <th>Cl.NCC1CC12CCOCC2</th>\n",
       "      <th>17</th>\n",
       "      <td>212</td>\n",
       "    </tr>\n",
       "    <tr>\n",
       "      <th>Nc1ccc2cc(Br)ccc2c1</th>\n",
       "      <th>19</th>\n",
       "      <td>160</td>\n",
       "    </tr>\n",
       "    <tr>\n",
       "      <th>C=C(C)C(=O)NCCN.Cl</th>\n",
       "      <th>18</th>\n",
       "      <td>122</td>\n",
       "    </tr>\n",
       "    <tr>\n",
       "      <th>Nc1ncnc2c1ncn2C1CCCCO1</th>\n",
       "      <th>22</th>\n",
       "      <td>86</td>\n",
       "    </tr>\n",
       "  </tbody>\n",
       "</table>\n",
       "<p>693 rows × 1 columns</p>\n",
       "</div>"
      ],
      "text/plain": [
       "                                            binds\n",
       "buildingblock2_smiles           bb2_length       \n",
       "Cl.Cl.NCc1cncc(F)c1             19          64213\n",
       "Nc1cc(N2CCNCC2)ccc1[N+](=O)[O-] 31          56276\n",
       "Cl.NCc1cnc2n1CCOC2              18          30862\n",
       "NCCC1CSC1                       9           28190\n",
       "CCOC(=O)c1ncccc1N               17          26121\n",
       "...                                           ...\n",
       "Cl.Nc1ccc2cccnc2c1              18            226\n",
       "Cl.NCC1CC12CCOCC2               17            212\n",
       "Nc1ccc2cc(Br)ccc2c1             19            160\n",
       "C=C(C)C(=O)NCCN.Cl              18            122\n",
       "Nc1ncnc2c1ncn2C1CCCCO1          22             86\n",
       "\n",
       "[693 rows x 1 columns]"
      ]
     },
     "execution_count": 15,
     "metadata": {},
     "output_type": "execute_result"
    }
   ],
   "source": [
    "df_train[['buildingblock2_smiles','bb2_length','binds']].groupby(['buildingblock2_smiles','bb2_length']).agg(sum).sort_values(by='binds', ascending=False)"
   ]
  },
  {
   "cell_type": "code",
   "execution_count": 16,
   "id": "953e3f3d-eeb2-4a30-844d-0da0cf11734c",
   "metadata": {},
   "outputs": [
    {
     "data": {
      "text/html": [
       "<div>\n",
       "<style scoped>\n",
       "    .dataframe tbody tr th:only-of-type {\n",
       "        vertical-align: middle;\n",
       "    }\n",
       "\n",
       "    .dataframe tbody tr th {\n",
       "        vertical-align: top;\n",
       "    }\n",
       "\n",
       "    .dataframe thead th {\n",
       "        text-align: right;\n",
       "    }\n",
       "</style>\n",
       "<table border=\"1\" class=\"dataframe\">\n",
       "  <thead>\n",
       "    <tr style=\"text-align: right;\">\n",
       "      <th></th>\n",
       "      <th></th>\n",
       "      <th>binds</th>\n",
       "    </tr>\n",
       "    <tr>\n",
       "      <th>buildingblock3_smiles</th>\n",
       "      <th>bb3_length</th>\n",
       "      <th></th>\n",
       "    </tr>\n",
       "  </thead>\n",
       "  <tbody>\n",
       "    <tr>\n",
       "      <th>Cc1cc2cc(CN)ccc2[nH]1</th>\n",
       "      <th>21</th>\n",
       "      <td>58844</td>\n",
       "    </tr>\n",
       "    <tr>\n",
       "      <th>Cl.Cn1cc(N)ccc1=O</th>\n",
       "      <th>17</th>\n",
       "      <td>34174</td>\n",
       "    </tr>\n",
       "    <tr>\n",
       "      <th>Cl.Cl.NCc1cncc(F)c1</th>\n",
       "      <th>19</th>\n",
       "      <td>22707</td>\n",
       "    </tr>\n",
       "    <tr>\n",
       "      <th>Nc1ccc2c(c1)CNC2=O</th>\n",
       "      <th>18</th>\n",
       "      <td>16993</td>\n",
       "    </tr>\n",
       "    <tr>\n",
       "      <th>Cl.NCC12CC3CC(CC(C3)C1)C2</th>\n",
       "      <th>25</th>\n",
       "      <td>15130</td>\n",
       "    </tr>\n",
       "    <tr>\n",
       "      <th>...</th>\n",
       "      <th>...</th>\n",
       "      <td>...</td>\n",
       "    </tr>\n",
       "    <tr>\n",
       "      <th>Cl.N#CC1(NC(=O)CN)CC1</th>\n",
       "      <th>21</th>\n",
       "      <td>26</td>\n",
       "    </tr>\n",
       "    <tr>\n",
       "      <th>Nc1ncccc1CO</th>\n",
       "      <th>11</th>\n",
       "      <td>23</td>\n",
       "    </tr>\n",
       "    <tr>\n",
       "      <th>Nc1ccc(O)cn1</th>\n",
       "      <th>12</th>\n",
       "      <td>13</td>\n",
       "    </tr>\n",
       "    <tr>\n",
       "      <th>CC1(CCCCN)OCCO1</th>\n",
       "      <th>15</th>\n",
       "      <td>4</td>\n",
       "    </tr>\n",
       "    <tr>\n",
       "      <th>NCc1ccccn1</th>\n",
       "      <th>10</th>\n",
       "      <td>0</td>\n",
       "    </tr>\n",
       "  </tbody>\n",
       "</table>\n",
       "<p>872 rows × 1 columns</p>\n",
       "</div>"
      ],
      "text/plain": [
       "                                      binds\n",
       "buildingblock3_smiles     bb3_length       \n",
       "Cc1cc2cc(CN)ccc2[nH]1     21          58844\n",
       "Cl.Cn1cc(N)ccc1=O         17          34174\n",
       "Cl.Cl.NCc1cncc(F)c1       19          22707\n",
       "Nc1ccc2c(c1)CNC2=O        18          16993\n",
       "Cl.NCC12CC3CC(CC(C3)C1)C2 25          15130\n",
       "...                                     ...\n",
       "Cl.N#CC1(NC(=O)CN)CC1     21             26\n",
       "Nc1ncccc1CO               11             23\n",
       "Nc1ccc(O)cn1              12             13\n",
       "CC1(CCCCN)OCCO1           15              4\n",
       "NCc1ccccn1                10              0\n",
       "\n",
       "[872 rows x 1 columns]"
      ]
     },
     "execution_count": 16,
     "metadata": {},
     "output_type": "execute_result"
    }
   ],
   "source": [
    "df_train[['buildingblock3_smiles','bb3_length','binds']].groupby(['buildingblock3_smiles','bb3_length']).agg(sum).sort_values(by='binds', ascending=False)"
   ]
  },
  {
   "cell_type": "code",
   "execution_count": 17,
   "id": "27797b7f-2150-46a0-b98c-a3f2184013b8",
   "metadata": {},
   "outputs": [
    {
     "data": {
      "text/html": [
       "<div>\n",
       "<style scoped>\n",
       "    .dataframe tbody tr th:only-of-type {\n",
       "        vertical-align: middle;\n",
       "    }\n",
       "\n",
       "    .dataframe tbody tr th {\n",
       "        vertical-align: top;\n",
       "    }\n",
       "\n",
       "    .dataframe thead th {\n",
       "        text-align: right;\n",
       "    }\n",
       "</style>\n",
       "<table border=\"1\" class=\"dataframe\">\n",
       "  <thead>\n",
       "    <tr style=\"text-align: right;\">\n",
       "      <th></th>\n",
       "      <th></th>\n",
       "      <th>binds</th>\n",
       "    </tr>\n",
       "    <tr>\n",
       "      <th>id</th>\n",
       "      <th>molecule_length</th>\n",
       "      <th></th>\n",
       "    </tr>\n",
       "  </thead>\n",
       "  <tbody>\n",
       "    <tr>\n",
       "      <th>82709162</th>\n",
       "      <th>59</th>\n",
       "      <td>1</td>\n",
       "    </tr>\n",
       "    <tr>\n",
       "      <th>82803671</th>\n",
       "      <th>65</th>\n",
       "      <td>1</td>\n",
       "    </tr>\n",
       "    <tr>\n",
       "      <th>82803707</th>\n",
       "      <th>79</th>\n",
       "      <td>1</td>\n",
       "    </tr>\n",
       "    <tr>\n",
       "      <th>82803704</th>\n",
       "      <th>62</th>\n",
       "      <td>1</td>\n",
       "    </tr>\n",
       "    <tr>\n",
       "      <th>82803701</th>\n",
       "      <th>83</th>\n",
       "      <td>1</td>\n",
       "    </tr>\n",
       "    <tr>\n",
       "      <th>...</th>\n",
       "      <th>...</th>\n",
       "      <td>...</td>\n",
       "    </tr>\n",
       "    <tr>\n",
       "      <th>124997114</th>\n",
       "      <th>73</th>\n",
       "      <td>0</td>\n",
       "    </tr>\n",
       "    <tr>\n",
       "      <th>124997086</th>\n",
       "      <th>74</th>\n",
       "      <td>0</td>\n",
       "    </tr>\n",
       "    <tr>\n",
       "      <th>124997000</th>\n",
       "      <th>69</th>\n",
       "      <td>0</td>\n",
       "    </tr>\n",
       "    <tr>\n",
       "      <th>124996535</th>\n",
       "      <th>79</th>\n",
       "      <td>0</td>\n",
       "    </tr>\n",
       "    <tr>\n",
       "      <th>295246701</th>\n",
       "      <th>82</th>\n",
       "      <td>0</td>\n",
       "    </tr>\n",
       "  </tbody>\n",
       "</table>\n",
       "<p>3179812 rows × 1 columns</p>\n",
       "</div>"
      ],
      "text/plain": [
       "                           binds\n",
       "id        molecule_length       \n",
       "82709162  59                   1\n",
       "82803671  65                   1\n",
       "82803707  79                   1\n",
       "82803704  62                   1\n",
       "82803701  83                   1\n",
       "...                          ...\n",
       "124997114 73                   0\n",
       "124997086 74                   0\n",
       "124997000 69                   0\n",
       "124996535 79                   0\n",
       "295246701 82                   0\n",
       "\n",
       "[3179812 rows x 1 columns]"
      ]
     },
     "execution_count": 17,
     "metadata": {},
     "output_type": "execute_result"
    }
   ],
   "source": [
    "df_train[['id','molecule_length','binds']].groupby(['id','molecule_length']).agg(sum).sort_values(by='binds', ascending=False)"
   ]
  },
  {
   "cell_type": "code",
   "execution_count": 18,
   "id": "90691c7a-d9fb-42f8-b5c5-d994ffa33b03",
   "metadata": {},
   "outputs": [
    {
     "name": "stdout",
     "output_type": "stream",
     "text": [
      "Correlation between molecule lengths and binds:\n",
      "                  bb1_length  bb2_length  bb3_length  molecule_length     binds\n",
      "bb1_length         1.000000    0.015424    0.008511         0.574832 -0.084591\n",
      "bb2_length         0.015424    1.000000   -0.000704         0.557588  0.007767\n",
      "bb3_length         0.008511   -0.000704    1.000000         0.534697  0.000994\n",
      "molecule_length    0.574832    0.557588    0.534697         1.000000 -0.047254\n",
      "binds             -0.084591    0.007767    0.000994        -0.047254  1.000000\n"
     ]
    }
   ],
   "source": [
    "correlation_lengths = df_train[['bb1_length', 'bb2_length', 'bb3_length', 'molecule_length', 'binds']].corr()\n",
    "\n",
    "print(\"Correlation between molecule lengths and binds:\\n\", correlation_lengths)"
   ]
  },
  {
   "cell_type": "code",
   "execution_count": 19,
   "id": "64f4bc27-357e-40bd-b401-27c1d005dcd2",
   "metadata": {},
   "outputs": [
    {
     "data": {
      "image/png": "[encoded data removed]",
      "text/plain": [
       "<Figure size 720x576 with 2 Axes>"
      ]
     },
     "metadata": {
      "needs_background": "light"
     },
     "output_type": "display_data"
    }
   ],
   "source": [
    "plt.figure(figsize=(10, 8))\n",
    "\n",
    "# Create a heatmap with the correlation matrix\n",
    "sns.heatmap(correlation_lengths, annot=True, cmap=\"RdYlGn\", center=0)\n",
    "# Add title\n",
    "plt.title('Correlation heatmap for molecule lengths and binds')\n",
    "\n",
    "# Show the heatmap\n",
    "plt.show()"
   ]
  },
  {
   "cell_type": "code",
   "execution_count": 20,
   "id": "156b6dfa-ff6e-451e-a277-1ef189180e39",
   "metadata": {},
   "outputs": [
    {
     "name": "stdout",
     "output_type": "stream",
     "text": [
      "Defaulting to user installation because normal site-packages is not writeable\n",
      "Requirement already satisfied: joblib in /shared/centos7/anaconda3/2021.05/lib/python3.8/site-packages (1.0.1)\n"
     ]
    }
   ],
   "source": [
    "!pip install joblib"
   ]
  },
  {
   "cell_type": "code",
   "execution_count": 21,
   "id": "d64d6e89-8cf6-4826-a2a2-fe2495a55596",
   "metadata": {},
   "outputs": [],
   "source": [
    "from rdkit import Chem\n",
    "from joblib import Parallel, delayed\n",
    "import pandas as pd\n",
    "\n",
    "# Define the function for parallel processing\n",
    "def smiles_to_mol(smiles):\n",
    "    return Chem.MolFromSmiles(smiles)\n",
    "\n",
    "# Use joblib's Parallel to convert SMILES in parallel\n",
    "df_train['molecule'] = Parallel(n_jobs=-1)(delayed(smiles_to_mol)(smiles) for smiles in df_train['molecule_smiles'])"
   ]
  },
  {
   "cell_type": "code",
   "execution_count": 22,
   "id": "9bc283f8-fd14-4043-a1b8-51ce097ba9ad",
   "metadata": {
    "tags": []
   },
   "outputs": [
    {
     "name": "stderr",
     "output_type": "stream",
     "text": [
      "100%|██████████| 3179812/3179812 [12:13<00:00, 4334.48it/s] \n"
     ]
    }
   ],
   "source": [
    "from tqdm import tqdm\n",
    "\n",
    "# Define the fingerprint generation function\n",
    "def generate_ecfp(molecule, radius=2, bits=1024):\n",
    "    if molecule is None:\n",
    "        return None\n",
    "    return list(AllChem.GetMorganFingerprintAsBitVect(molecule, radius=radius, nBits=bits))\n",
    "\n",
    "# Use tqdm for progress tracking\n",
    "tqdm.pandas()\n",
    "\n",
    "# Use Parallel with joblib to process fingerprints in parallel\n",
    "df_train['ecfp'] = Parallel(n_jobs=-1)(delayed(generate_ecfp)(mol) for mol in tqdm(df_train['molecule']))"
   ]
  },
  {
   "cell_type": "code",
   "execution_count": 32,
   "id": "bdf045bd-f187-40c2-a1f4-b2807ad87bb6",
   "metadata": {},
   "outputs": [
    {
     "data": {
      "text/html": [
       "<div>\n",
       "<style scoped>\n",
       "    .dataframe tbody tr th:only-of-type {\n",
       "        vertical-align: middle;\n",
       "    }\n",
       "\n",
       "    .dataframe tbody tr th {\n",
       "        vertical-align: top;\n",
       "    }\n",
       "\n",
       "    .dataframe thead th {\n",
       "        text-align: right;\n",
       "    }\n",
       "</style>\n",
       "<table border=\"1\" class=\"dataframe\">\n",
       "  <thead>\n",
       "    <tr style=\"text-align: right;\">\n",
       "      <th></th>\n",
       "      <th>id</th>\n",
       "      <th>buildingblock1_smiles</th>\n",
       "      <th>buildingblock2_smiles</th>\n",
       "      <th>buildingblock3_smiles</th>\n",
       "      <th>molecule_smiles</th>\n",
       "      <th>protein_name</th>\n",
       "      <th>binds</th>\n",
       "      <th>bb1_length</th>\n",
       "      <th>bb2_length</th>\n",
       "      <th>bb3_length</th>\n",
       "      <th>molecule_length</th>\n",
       "      <th>molecule</th>\n",
       "      <th>ecfp</th>\n",
       "    </tr>\n",
       "  </thead>\n",
       "  <tbody>\n",
       "    <tr>\n",
       "      <th>0</th>\n",
       "      <td>256581404</td>\n",
       "      <td>O=C(O)C[C@@H](NC(=O)OCC1c2ccccc2-c2ccccc21)c1c...</td>\n",
       "      <td>Cl.NCC12CC3CC(CC(C3)C1)C2</td>\n",
       "      <td>NCc1ccc(C(=O)N2CCCC2)cc1</td>\n",
       "      <td>O=C(C[C@@H](Nc1nc(NCc2ccc(C(=O)N3CCCC3)cc2)nc(...</td>\n",
       "      <td>sEH</td>\n",
       "      <td>0</td>\n",
       "      <td>61</td>\n",
       "      <td>25</td>\n",
       "      <td>24</td>\n",
       "      <td>96</td>\n",
       "      <td>&lt;rdkit.Chem.rdchem.Mol object at 0x2b45093cc540&gt;</td>\n",
       "      <td>[0, 1, 0, 0, 1, 0, 0, 0, 0, 0, 0, 0, 0, 0, 0, ...</td>\n",
       "    </tr>\n",
       "    <tr>\n",
       "      <th>1</th>\n",
       "      <td>95155626</td>\n",
       "      <td>O=C(N[C@@H](Cc1ccc(Cl)c(Cl)c1)C(=O)O)OCC1c2ccc...</td>\n",
       "      <td>Cc1cc(N)nn1C</td>\n",
       "      <td>Nc1n[nH]c2cc(Cl)ccc12</td>\n",
       "      <td>Cc1cc(Nc2nc(Nc3n[nH]c4cc(Cl)ccc34)nc(N[C@@H](C...</td>\n",
       "      <td>BRD4</td>\n",
       "      <td>0</td>\n",
       "      <td>59</td>\n",
       "      <td>12</td>\n",
       "      <td>21</td>\n",
       "      <td>81</td>\n",
       "      <td>&lt;rdkit.Chem.rdchem.Mol object at 0x2b45093cc040&gt;</td>\n",
       "      <td>[0, 1, 0, 0, 0, 0, 0, 0, 0, 0, 0, 0, 0, 0, 0, ...</td>\n",
       "    </tr>\n",
       "    <tr>\n",
       "      <th>2</th>\n",
       "      <td>294061496</td>\n",
       "      <td>O=C(O)[C@H]1Cc2ccccc2CN1C(=O)OCC1c2ccccc2-c2cc...</td>\n",
       "      <td>Nc1cccc2c1CN(C1CCC(=O)NC1=O)C2=O</td>\n",
       "      <td>Nc1nc(Cl)c(C=O)c(Cl)n1</td>\n",
       "      <td>O=Cc1c(Cl)nc(Nc2nc(Nc3cccc4c3CN(C3CCC(=O)NC3=O...</td>\n",
       "      <td>sEH</td>\n",
       "      <td>0</td>\n",
       "      <td>51</td>\n",
       "      <td>32</td>\n",
       "      <td>22</td>\n",
       "      <td>93</td>\n",
       "      <td>&lt;rdkit.Chem.rdchem.Mol object at 0x2b45093c2b30&gt;</td>\n",
       "      <td>[0, 0, 1, 0, 0, 0, 0, 0, 0, 0, 1, 0, 0, 0, 0, ...</td>\n",
       "    </tr>\n",
       "    <tr>\n",
       "      <th>3</th>\n",
       "      <td>176261073</td>\n",
       "      <td>O=C(Nc1cc(F)ccc1C(=O)O)OCC1c2ccccc2-c2ccccc21</td>\n",
       "      <td>Nc1cc(Cl)ccc1F</td>\n",
       "      <td>Cl.Cl.NCCCN1CCNC(=O)C1</td>\n",
       "      <td>O=C1CN(CCCNc2nc(Nc3cc(Cl)ccc3F)nc(Nc3cc(F)ccc3...</td>\n",
       "      <td>BRD4</td>\n",
       "      <td>0</td>\n",
       "      <td>45</td>\n",
       "      <td>14</td>\n",
       "      <td>22</td>\n",
       "      <td>64</td>\n",
       "      <td>&lt;rdkit.Chem.rdchem.Mol object at 0x2b45093cc270&gt;</td>\n",
       "      <td>[0, 0, 0, 0, 0, 0, 0, 0, 0, 0, 0, 0, 0, 0, 0, ...</td>\n",
       "    </tr>\n",
       "    <tr>\n",
       "      <th>4</th>\n",
       "      <td>70801053</td>\n",
       "      <td>N#Cc1cccc(C[C@H](CC(=O)O)NC(=O)OCC2c3ccccc3-c3...</td>\n",
       "      <td>Nc1ncccc1F</td>\n",
       "      <td>CCOc1cc(N)ccn1</td>\n",
       "      <td>CCOc1cc(Nc2nc(Nc3ncccc3F)nc(N[C@@H](CC(=O)N[Dy...</td>\n",
       "      <td>BRD4</td>\n",
       "      <td>0</td>\n",
       "      <td>56</td>\n",
       "      <td>10</td>\n",
       "      <td>14</td>\n",
       "      <td>70</td>\n",
       "      <td>&lt;rdkit.Chem.rdchem.Mol object at 0x2b45093c2b80&gt;</td>\n",
       "      <td>[0, 1, 0, 0, 0, 0, 0, 0, 1, 0, 0, 0, 0, 0, 0, ...</td>\n",
       "    </tr>\n",
       "    <tr>\n",
       "      <th>...</th>\n",
       "      <td>...</td>\n",
       "      <td>...</td>\n",
       "      <td>...</td>\n",
       "      <td>...</td>\n",
       "      <td>...</td>\n",
       "      <td>...</td>\n",
       "      <td>...</td>\n",
       "      <td>...</td>\n",
       "      <td>...</td>\n",
       "      <td>...</td>\n",
       "      <td>...</td>\n",
       "      <td>...</td>\n",
       "      <td>...</td>\n",
       "    </tr>\n",
       "    <tr>\n",
       "      <th>3179807</th>\n",
       "      <td>295243165</td>\n",
       "      <td>[N-]=[N+]=NCCC[C@H](NC(=O)OCC1c2ccccc2-c2ccccc...</td>\n",
       "      <td>Nc1nnc(S)s1</td>\n",
       "      <td>NCc1cnc(-c2ccccc2)s1</td>\n",
       "      <td>[N-]=[N+]=NCCC[C@H](Nc1nc(NCc2cnc(-c3ccccc3)s2...</td>\n",
       "      <td>HSA</td>\n",
       "      <td>1</td>\n",
       "      <td>55</td>\n",
       "      <td>11</td>\n",
       "      <td>20</td>\n",
       "      <td>75</td>\n",
       "      <td>&lt;rdkit.Chem.rdchem.Mol object at 0x2b462d715770&gt;</td>\n",
       "      <td>[0, 1, 0, 0, 0, 0, 0, 0, 0, 0, 0, 0, 0, 0, 0, ...</td>\n",
       "    </tr>\n",
       "    <tr>\n",
       "      <th>3179808</th>\n",
       "      <td>295243852</td>\n",
       "      <td>[N-]=[N+]=NCCC[C@H](NC(=O)OCC1c2ccccc2-c2ccccc...</td>\n",
       "      <td>Nc1nncs1</td>\n",
       "      <td>Cc1cc(N)n[nH]1</td>\n",
       "      <td>Cc1cc(Nc2nc(Nc3nncs3)nc(N[C@@H](CCCN=[N+]=[N-]...</td>\n",
       "      <td>HSA</td>\n",
       "      <td>1</td>\n",
       "      <td>55</td>\n",
       "      <td>8</td>\n",
       "      <td>14</td>\n",
       "      <td>67</td>\n",
       "      <td>&lt;rdkit.Chem.rdchem.Mol object at 0x2b462d715720&gt;</td>\n",
       "      <td>[0, 1, 0, 0, 0, 0, 0, 0, 0, 0, 0, 0, 0, 0, 0, ...</td>\n",
       "    </tr>\n",
       "    <tr>\n",
       "      <th>3179809</th>\n",
       "      <td>295244088</td>\n",
       "      <td>[N-]=[N+]=NCCC[C@H](NC(=O)OCC1c2ccccc2-c2ccccc...</td>\n",
       "      <td>Nc1nncs1</td>\n",
       "      <td>Cl.Cn1cc(N)ccc1=O</td>\n",
       "      <td>Cn1cc(Nc2nc(Nc3nncs3)nc(N[C@@H](CCCN=[N+]=[N-]...</td>\n",
       "      <td>BRD4</td>\n",
       "      <td>1</td>\n",
       "      <td>55</td>\n",
       "      <td>8</td>\n",
       "      <td>17</td>\n",
       "      <td>67</td>\n",
       "      <td>&lt;rdkit.Chem.rdchem.Mol object at 0x2b462d7156d0&gt;</td>\n",
       "      <td>[0, 1, 0, 0, 0, 0, 0, 0, 0, 0, 0, 0, 0, 0, 0, ...</td>\n",
       "    </tr>\n",
       "    <tr>\n",
       "      <th>3179810</th>\n",
       "      <td>295244440</td>\n",
       "      <td>[N-]=[N+]=NCCC[C@H](NC(=O)OCC1c2ccccc2-c2ccccc...</td>\n",
       "      <td>Nc1nncs1</td>\n",
       "      <td>NCCc1nccc(C2CC2)n1</td>\n",
       "      <td>[N-]=[N+]=NCCC[C@H](Nc1nc(NCCc2nccc(C3CC3)n2)n...</td>\n",
       "      <td>HSA</td>\n",
       "      <td>1</td>\n",
       "      <td>55</td>\n",
       "      <td>8</td>\n",
       "      <td>18</td>\n",
       "      <td>70</td>\n",
       "      <td>&lt;rdkit.Chem.rdchem.Mol object at 0x2b462d715680&gt;</td>\n",
       "      <td>[0, 1, 0, 0, 0, 0, 0, 0, 0, 0, 0, 0, 0, 0, 0, ...</td>\n",
       "    </tr>\n",
       "    <tr>\n",
       "      <th>3179811</th>\n",
       "      <td>295245834</td>\n",
       "      <td>[N-]=[N+]=NCCC[C@H](NC(=O)OCC1c2ccccc2-c2ccccc...</td>\n",
       "      <td>Nc1noc2ccc(F)cc12</td>\n",
       "      <td>Cl.Cn1cc(N)ccc1=O</td>\n",
       "      <td>Cn1cc(Nc2nc(Nc3noc4ccc(F)cc34)nc(N[C@@H](CCCN=...</td>\n",
       "      <td>BRD4</td>\n",
       "      <td>1</td>\n",
       "      <td>55</td>\n",
       "      <td>17</td>\n",
       "      <td>17</td>\n",
       "      <td>76</td>\n",
       "      <td>&lt;rdkit.Chem.rdchem.Mol object at 0x2b462d715950&gt;</td>\n",
       "      <td>[0, 1, 0, 0, 0, 0, 0, 0, 0, 0, 0, 0, 0, 1, 0, ...</td>\n",
       "    </tr>\n",
       "  </tbody>\n",
       "</table>\n",
       "<p>3179812 rows × 13 columns</p>\n",
       "</div>"
      ],
      "text/plain": [
       "                id                              buildingblock1_smiles  \\\n",
       "0        256581404  O=C(O)C[C@@H](NC(=O)OCC1c2ccccc2-c2ccccc21)c1c...   \n",
       "1         95155626  O=C(N[C@@H](Cc1ccc(Cl)c(Cl)c1)C(=O)O)OCC1c2ccc...   \n",
       "2        294061496  O=C(O)[C@H]1Cc2ccccc2CN1C(=O)OCC1c2ccccc2-c2cc...   \n",
       "3        176261073      O=C(Nc1cc(F)ccc1C(=O)O)OCC1c2ccccc2-c2ccccc21   \n",
       "4         70801053  N#Cc1cccc(C[C@H](CC(=O)O)NC(=O)OCC2c3ccccc3-c3...   \n",
       "...            ...                                                ...   \n",
       "3179807  295243165  [N-]=[N+]=NCCC[C@H](NC(=O)OCC1c2ccccc2-c2ccccc...   \n",
       "3179808  295243852  [N-]=[N+]=NCCC[C@H](NC(=O)OCC1c2ccccc2-c2ccccc...   \n",
       "3179809  295244088  [N-]=[N+]=NCCC[C@H](NC(=O)OCC1c2ccccc2-c2ccccc...   \n",
       "3179810  295244440  [N-]=[N+]=NCCC[C@H](NC(=O)OCC1c2ccccc2-c2ccccc...   \n",
       "3179811  295245834  [N-]=[N+]=NCCC[C@H](NC(=O)OCC1c2ccccc2-c2ccccc...   \n",
       "\n",
       "                    buildingblock2_smiles     buildingblock3_smiles  \\\n",
       "0               Cl.NCC12CC3CC(CC(C3)C1)C2  NCc1ccc(C(=O)N2CCCC2)cc1   \n",
       "1                            Cc1cc(N)nn1C     Nc1n[nH]c2cc(Cl)ccc12   \n",
       "2        Nc1cccc2c1CN(C1CCC(=O)NC1=O)C2=O    Nc1nc(Cl)c(C=O)c(Cl)n1   \n",
       "3                          Nc1cc(Cl)ccc1F    Cl.Cl.NCCCN1CCNC(=O)C1   \n",
       "4                              Nc1ncccc1F            CCOc1cc(N)ccn1   \n",
       "...                                   ...                       ...   \n",
       "3179807                       Nc1nnc(S)s1      NCc1cnc(-c2ccccc2)s1   \n",
       "3179808                          Nc1nncs1            Cc1cc(N)n[nH]1   \n",
       "3179809                          Nc1nncs1         Cl.Cn1cc(N)ccc1=O   \n",
       "3179810                          Nc1nncs1        NCCc1nccc(C2CC2)n1   \n",
       "3179811                 Nc1noc2ccc(F)cc12         Cl.Cn1cc(N)ccc1=O   \n",
       "\n",
       "                                           molecule_smiles protein_name  \\\n",
       "0        O=C(C[C@@H](Nc1nc(NCc2ccc(C(=O)N3CCCC3)cc2)nc(...          sEH   \n",
       "1        Cc1cc(Nc2nc(Nc3n[nH]c4cc(Cl)ccc34)nc(N[C@@H](C...         BRD4   \n",
       "2        O=Cc1c(Cl)nc(Nc2nc(Nc3cccc4c3CN(C3CCC(=O)NC3=O...          sEH   \n",
       "3        O=C1CN(CCCNc2nc(Nc3cc(Cl)ccc3F)nc(Nc3cc(F)ccc3...         BRD4   \n",
       "4        CCOc1cc(Nc2nc(Nc3ncccc3F)nc(N[C@@H](CC(=O)N[Dy...         BRD4   \n",
       "...                                                    ...          ...   \n",
       "3179807  [N-]=[N+]=NCCC[C@H](Nc1nc(NCc2cnc(-c3ccccc3)s2...          HSA   \n",
       "3179808  Cc1cc(Nc2nc(Nc3nncs3)nc(N[C@@H](CCCN=[N+]=[N-]...          HSA   \n",
       "3179809  Cn1cc(Nc2nc(Nc3nncs3)nc(N[C@@H](CCCN=[N+]=[N-]...         BRD4   \n",
       "3179810  [N-]=[N+]=NCCC[C@H](Nc1nc(NCCc2nccc(C3CC3)n2)n...          HSA   \n",
       "3179811  Cn1cc(Nc2nc(Nc3noc4ccc(F)cc34)nc(N[C@@H](CCCN=...         BRD4   \n",
       "\n",
       "         binds  bb1_length  bb2_length  bb3_length  molecule_length  \\\n",
       "0            0          61          25          24               96   \n",
       "1            0          59          12          21               81   \n",
       "2            0          51          32          22               93   \n",
       "3            0          45          14          22               64   \n",
       "4            0          56          10          14               70   \n",
       "...        ...         ...         ...         ...              ...   \n",
       "3179807      1          55          11          20               75   \n",
       "3179808      1          55           8          14               67   \n",
       "3179809      1          55           8          17               67   \n",
       "3179810      1          55           8          18               70   \n",
       "3179811      1          55          17          17               76   \n",
       "\n",
       "                                                 molecule  \\\n",
       "0        <rdkit.Chem.rdchem.Mol object at 0x2b45093cc540>   \n",
       "1        <rdkit.Chem.rdchem.Mol object at 0x2b45093cc040>   \n",
       "2        <rdkit.Chem.rdchem.Mol object at 0x2b45093c2b30>   \n",
       "3        <rdkit.Chem.rdchem.Mol object at 0x2b45093cc270>   \n",
       "4        <rdkit.Chem.rdchem.Mol object at 0x2b45093c2b80>   \n",
       "...                                                   ...   \n",
       "3179807  <rdkit.Chem.rdchem.Mol object at 0x2b462d715770>   \n",
       "3179808  <rdkit.Chem.rdchem.Mol object at 0x2b462d715720>   \n",
       "3179809  <rdkit.Chem.rdchem.Mol object at 0x2b462d7156d0>   \n",
       "3179810  <rdkit.Chem.rdchem.Mol object at 0x2b462d715680>   \n",
       "3179811  <rdkit.Chem.rdchem.Mol object at 0x2b462d715950>   \n",
       "\n",
       "                                                      ecfp  \n",
       "0        [0, 1, 0, 0, 1, 0, 0, 0, 0, 0, 0, 0, 0, 0, 0, ...  \n",
       "1        [0, 1, 0, 0, 0, 0, 0, 0, 0, 0, 0, 0, 0, 0, 0, ...  \n",
       "2        [0, 0, 1, 0, 0, 0, 0, 0, 0, 0, 1, 0, 0, 0, 0, ...  \n",
       "3        [0, 0, 0, 0, 0, 0, 0, 0, 0, 0, 0, 0, 0, 0, 0, ...  \n",
       "4        [0, 1, 0, 0, 0, 0, 0, 0, 1, 0, 0, 0, 0, 0, 0, ...  \n",
       "...                                                    ...  \n",
       "3179807  [0, 1, 0, 0, 0, 0, 0, 0, 0, 0, 0, 0, 0, 0, 0, ...  \n",
       "3179808  [0, 1, 0, 0, 0, 0, 0, 0, 0, 0, 0, 0, 0, 0, 0, ...  \n",
       "3179809  [0, 1, 0, 0, 0, 0, 0, 0, 0, 0, 0, 0, 0, 0, 0, ...  \n",
       "3179810  [0, 1, 0, 0, 0, 0, 0, 0, 0, 0, 0, 0, 0, 0, 0, ...  \n",
       "3179811  [0, 1, 0, 0, 0, 0, 0, 0, 0, 0, 0, 0, 0, 1, 0, ...  \n",
       "\n",
       "[3179812 rows x 13 columns]"
      ]
     },
     "execution_count": 32,
     "metadata": {},
     "output_type": "execute_result"
    }
   ],
   "source": [
    "df_train"
   ]
  },
  {
   "cell_type": "code",
   "execution_count": 23,
   "id": "eff24997-d62c-42f8-9b52-6cb7108534c4",
   "metadata": {
    "tags": []
   },
   "outputs": [
    {
     "name": "stdout",
     "output_type": "stream",
     "text": [
      "Defaulting to user installation because normal site-packages is not writeable\n",
      "Requirement already satisfied: xgboost in ./.local/lib/python3.8/site-packages (2.1.1)\n",
      "Requirement already satisfied: scipy in /shared/centos7/anaconda3/2021.05/lib/python3.8/site-packages (from xgboost) (1.6.2)\n",
      "Requirement already satisfied: numpy in ./.local/lib/python3.8/site-packages (from xgboost) (1.22.4)\n",
      "Defaulting to user installation because normal site-packages is not writeable\n",
      "Requirement already satisfied: lightgbm in ./.local/lib/python3.8/site-packages (4.5.0)\n",
      "Requirement already satisfied: numpy>=1.17.0 in ./.local/lib/python3.8/site-packages (from lightgbm) (1.22.4)\n",
      "Requirement already satisfied: scipy in /shared/centos7/anaconda3/2021.05/lib/python3.8/site-packages (from lightgbm) (1.6.2)\n",
      "Defaulting to user installation because normal site-packages is not writeable\n",
      "Requirement already satisfied: catboost in ./.local/lib/python3.8/site-packages (1.2.7)\n",
      "Requirement already satisfied: numpy<2.0,>=1.16.0 in ./.local/lib/python3.8/site-packages (from catboost) (1.22.4)\n",
      "Requirement already satisfied: scipy in /shared/centos7/anaconda3/2021.05/lib/python3.8/site-packages (from catboost) (1.6.2)\n",
      "Requirement already satisfied: matplotlib in /shared/centos7/anaconda3/2021.05/lib/python3.8/site-packages (from catboost) (3.3.4)\n",
      "Requirement already satisfied: pandas>=0.24 in ./.local/lib/python3.8/site-packages (from catboost) (2.0.3)\n",
      "Requirement already satisfied: graphviz in ./.local/lib/python3.8/site-packages (from catboost) (0.20.1)\n",
      "Requirement already satisfied: six in /shared/centos7/anaconda3/2021.05/lib/python3.8/site-packages (from catboost) (1.15.0)\n",
      "Requirement already satisfied: plotly in ./.local/lib/python3.8/site-packages (from catboost) (5.24.1)\n",
      "Requirement already satisfied: pytz>=2020.1 in /shared/centos7/anaconda3/2021.05/lib/python3.8/site-packages (from pandas>=0.24->catboost) (2021.1)\n",
      "Requirement already satisfied: python-dateutil>=2.8.2 in ./.local/lib/python3.8/site-packages (from pandas>=0.24->catboost) (2.9.0.post0)\n",
      "Requirement already satisfied: tzdata>=2022.1 in ./.local/lib/python3.8/site-packages (from pandas>=0.24->catboost) (2024.2)\n",
      "Requirement already satisfied: pyparsing!=2.0.4,!=2.1.2,!=2.1.6,>=2.0.3 in /shared/centos7/anaconda3/2021.05/lib/python3.8/site-packages (from matplotlib->catboost) (2.4.7)\n",
      "Requirement already satisfied: kiwisolver>=1.0.1 in /shared/centos7/anaconda3/2021.05/lib/python3.8/site-packages (from matplotlib->catboost) (1.3.1)\n",
      "Requirement already satisfied: pillow>=6.2.0 in /shared/centos7/anaconda3/2021.05/lib/python3.8/site-packages (from matplotlib->catboost) (8.2.0)\n",
      "Requirement already satisfied: cycler>=0.10 in /shared/centos7/anaconda3/2021.05/lib/python3.8/site-packages (from matplotlib->catboost) (0.10.0)\n",
      "Requirement already satisfied: packaging in /shared/centos7/anaconda3/2021.05/lib/python3.8/site-packages (from plotly->catboost) (20.9)\n",
      "Requirement already satisfied: tenacity>=6.2.0 in ./.local/lib/python3.8/site-packages (from plotly->catboost) (9.0.0)\n"
     ]
    }
   ],
   "source": [
    "!pip install xgboost\n",
    "!pip install lightgbm\n",
    "!pip install catboost"
   ]
  },
  {
   "cell_type": "code",
   "execution_count": 24,
   "id": "4cfcc241-521a-41a5-9246-1e11b8a04aeb",
   "metadata": {},
   "outputs": [],
   "source": [
    "from sklearn.model_selection import train_test_split"
   ]
  },
  {
   "cell_type": "code",
   "execution_count": 25,
   "id": "b7019010-a583-4498-a9b6-965da986ce5a",
   "metadata": {},
   "outputs": [],
   "source": [
    "X_train, X_test, y_train, y_test = train_test_split(df_train, df_train['binds'].tolist(), test_size=0.2, random_state=42)"
   ]
  },
  {
   "cell_type": "code",
   "execution_count": 26,
   "id": "b530ae5c-1091-498e-9d56-3a0a11740068",
   "metadata": {},
   "outputs": [],
   "source": [
    "X_train_sub, X_val, y_train_sub, y_val = train_test_split(X_train, y_train, test_size=0.2, random_state=42)"
   ]
  },
  {
   "cell_type": "code",
   "execution_count": 27,
   "id": "7b62eb67-7098-4075-acf1-2dcec717bda6",
   "metadata": {},
   "outputs": [
    {
     "name": "stderr",
     "output_type": "stream",
     "text": [
      "/home/namana.s/.local/lib/python3.8/site-packages/xgboost/core.py:265: FutureWarning: Your system has an old version of glibc (< 2.28). We will stop supporting Linux distros with glibc older than 2.28 after **May 31, 2025**. Please upgrade to a recent Linux distro (with glibc 2.28+) to use future versions of XGBoost.\n",
      "Note: You have installed the 'manylinux2014' variant of XGBoost. Certain features such as GPU algorithms or federated learning are not available. To use these features, please upgrade to a recent Linux distro with glibc 2.28+, and install the 'manylinux_2_28' variant.\n",
      "  warnings.warn(\n"
     ]
    }
   ],
   "source": [
    "from sklearn.metrics import accuracy_score, average_precision_score\n",
    "from sklearn.preprocessing import OneHotEncoder\n",
    "from sklearn.linear_model import LogisticRegression\n",
    "from sklearn.tree import DecisionTreeClassifier\n",
    "from sklearn.ensemble import RandomForestClassifier\n",
    "from sklearn.ensemble import GradientBoostingClassifier\n",
    "from xgboost import XGBClassifier\n",
    "# from lightgbm import LGBMClassifier\n",
    "from catboost import CatBoostClassifier\n",
    "import numpy as np\n",
    "from tqdm import tqdm\n",
    "#from tqdm.notebook import tqdm  # For progress bar\n",
    "\n",
    "# OneHotEncode the 'protein_name' column\n",
    "onehot_encoder = OneHotEncoder(sparse=False)  # Use sparse=False for dense matrix"
   ]
  },
  {
   "cell_type": "code",
   "execution_count": 28,
   "id": "2773df82-a3c7-4aff-9775-23d7c42dfd15",
   "metadata": {},
   "outputs": [],
   "source": [
    "protein_onehot_sub = onehot_encoder.fit_transform(X_train_sub['protein_name'].values.reshape(-1, 1))"
   ]
  },
  {
   "cell_type": "code",
   "execution_count": 29,
   "id": "fab16442-c8f4-447b-9b7c-7342d9b0f761",
   "metadata": {},
   "outputs": [],
   "source": [
    "protein_onehot_val = onehot_encoder.transform(X_val['protein_name'].values.reshape(-1, 1))"
   ]
  },
  {
   "cell_type": "code",
   "execution_count": 30,
   "id": "312ccaf3-7fa4-4faf-a47e-7520c962e493",
   "metadata": {},
   "outputs": [],
   "source": [
    "def batch_generator(df, protein_onehot, batch_size=100000):\n",
    "    n = len(df)\n",
    "    for i in range(0, n, batch_size):\n",
    "        X_batch = ([ecfp + list(protein) for ecfp, protein in zip(df['ecfp'].tolist()[i:i+batch_size], protein_onehot[i:i+batch_size])])\n",
    "        y_batch = df['binds'].tolist()[i:i+batch_size]        \n",
    "        yield np.array(X_batch), np.array(y_batch)"
   ]
  },
  {
   "cell_type": "code",
   "execution_count": 42,
   "id": "73bdeb06-e5a8-4503-989d-4f30a693ac9b",
   "metadata": {},
   "outputs": [
    {
     "name": "stderr",
     "output_type": "stream",
     "text": [
      "  0%|          | 0/21 [00:00<?, ?it/s]"
     ]
    },
    {
     "name": "stdout",
     "output_type": "stream",
     "text": [
      "Progress bars for Batch and Parallel processing\n"
     ]
    },
    {
     "name": "stderr",
     "output_type": "stream",
     "text": [
      "100%|██████████| 21/21 [05:43<00:00, 16.36s/it]\n",
      "100%|██████████| 6/6 [01:22<00:00, 13.67s/it]\n"
     ]
    },
    {
     "name": "stdout",
     "output_type": "stream",
     "text": [
      "Mean Average Precision (mAP) of XGBoost Classifier: 0.96\n"
     ]
    }
   ],
   "source": [
    "from tqdm import tqdm  # For the progress bar\n",
    "\n",
    "print(\"Progress bars for Batch and Parallel processing\")\n",
    "# Initialize the RandomForestClassifier model\n",
    "xgb_model = XGBClassifier(n_estimators=100, random_state=42)\n",
    "\n",
    "# Train the model using batches\n",
    "for X_batch, y_batch in tqdm(batch_generator(X_train_sub, protein_onehot_sub), total=len(X_train_sub)//100000+1):\n",
    "    xgb_model.fit(X_batch, y_batch)\n",
    "y_pred_proba = []\n",
    "for X_batch, y_batch in tqdm(batch_generator(X_val, protein_onehot_val), total=len(X_val)//100000+1):\n",
    "    y_pred_proba.extend(xgb_model.predict_proba(X_batch)[:, 1])\n",
    "map_score = average_precision_score(y_val, y_pred_proba)\n",
    "print(f\"Mean Average Precision (mAP) of XGBoost Classifier: {map_score:.2f}\")"
   ]
  },
  {
   "cell_type": "code",
   "execution_count": 44,
   "id": "e32ec0cd-2eaa-46c8-8322-65a3a17fdafe",
   "metadata": {
    "tags": []
   },
   "outputs": [
    {
     "name": "stderr",
     "output_type": "stream",
     "text": [
      "  0%|          | 0/21 [00:00<?, ?it/s]"
     ]
    },
    {
     "name": "stdout",
     "output_type": "stream",
     "text": [
      "Progress bars for Batch and Parallel processing\n"
     ]
    },
    {
     "name": "stderr",
     "output_type": "stream",
     "text": [
      "100%|██████████| 21/21 [38:22<00:00, 109.65s/it]\n",
      "100%|██████████| 6/6 [01:29<00:00, 14.91s/it]\n"
     ]
    },
    {
     "name": "stdout",
     "output_type": "stream",
     "text": [
      "Mean Average Precision (mAP) of Random Forest Classifier: 0.96\n"
     ]
    }
   ],
   "source": [
    "print(\"Progress bars for Batch and Parallel processing\")\n",
    "rf_model = RandomForestClassifier(n_estimators=100, random_state=42)\n",
    "\n",
    "# Train the model using batches\n",
    "for X_batch, y_batch in tqdm(batch_generator(X_train_sub, protein_onehot_sub), total=len(X_train_sub)//100000+1):\n",
    "    rf_model.fit(X_batch, y_batch)\n",
    "y_pred_proba = []\n",
    "for X_batch, y_batch in tqdm(batch_generator(X_val, protein_onehot_val), total=len(X_val)//100000+1):\n",
    "    y_pred_proba.extend(rf_model.predict_proba(X_batch)[:, 1])\n",
    "map_score = average_precision_score(y_val, y_pred_proba)\n",
    "print(f\"Mean Average Precision (mAP) of Random Forest Classifier: {map_score:.2f}\")"
   ]
  },
  {
   "cell_type": "code",
   "execution_count": 45,
   "id": "828a0621-679d-45ef-90bb-62e495e90e50",
   "metadata": {
    "tags": []
   },
   "outputs": [
    {
     "name": "stderr",
     "output_type": "stream",
     "text": [
      "  0%|          | 0/21 [00:00<?, ?it/s]"
     ]
    },
    {
     "name": "stdout",
     "output_type": "stream",
     "text": [
      "Progress bars for Batch and Parallel processing\n"
     ]
    },
    {
     "name": "stderr",
     "output_type": "stream",
     "text": [
      "100%|██████████| 21/21 [16:39<00:00, 47.59s/it]\n",
      "100%|██████████| 6/6 [04:23<00:00, 43.96s/it]\n"
     ]
    },
    {
     "name": "stdout",
     "output_type": "stream",
     "text": [
      "Mean Average Precision (mAP) of CatBoost Classifier: 0.96\n"
     ]
    }
   ],
   "source": [
    "print(\"Progress bars for Batch and Parallel processing\")\n",
    "catboost_model = CatBoostClassifier(iterations=100, random_state=42)\n",
    "\n",
    "# Train the model using batches\n",
    "for X_batch, y_batch in tqdm(batch_generator(X_train_sub, protein_onehot_sub), total=len(X_train_sub)//100000+1):\n",
    "    catboost_model.fit(X_batch, y_batch, verbose=0)\n",
    "y_pred_proba = []\n",
    "for X_batch, y_batch in tqdm(batch_generator(X_val, protein_onehot_val), total=len(X_val)//100000+1):\n",
    "    y_pred_proba.extend(catboost_model.predict_proba(X_batch)[:, 1])\n",
    "map_score = average_precision_score(y_val, y_pred_proba)\n",
    "print(f\"Mean Average Precision (mAP) of CatBoost Classifier: {map_score:.2f}\")"
   ]
  },
  {
   "cell_type": "code",
   "execution_count": 46,
   "id": "ddaa0bad-1db6-46aa-a095-588f2cac601b",
   "metadata": {},
   "outputs": [
    {
     "name": "stderr",
     "output_type": "stream",
     "text": [
      "  0%|          | 0/21 [00:00<?, ?it/s]"
     ]
    },
    {
     "name": "stdout",
     "output_type": "stream",
     "text": [
      "Progress bars for Batch and Parallel processing\n"
     ]
    },
    {
     "name": "stderr",
     "output_type": "stream",
     "text": [
      "100%|██████████| 21/21 [22:47<00:00, 65.14s/it]\n",
      "100%|██████████| 6/6 [01:00<00:00, 10.10s/it]\n"
     ]
    },
    {
     "name": "stdout",
     "output_type": "stream",
     "text": [
      "Mean Average Precision (mAP) of Logistic Regression: 0.93\n"
     ]
    }
   ],
   "source": [
    "print(\"Progress bars for Batch and Parallel processing\")\n",
    "lr_model = LogisticRegression(max_iter=10000, random_state=42)\n",
    "\n",
    "# Train the model using batches\n",
    "for X_batch, y_batch in tqdm(batch_generator(X_train_sub, protein_onehot_sub), total=len(X_train_sub)//100000+1):\n",
    "    lr_model.fit(X_batch, y_batch)\n",
    "y_pred_proba = []\n",
    "for X_batch, y_batch in tqdm(batch_generator(X_val, protein_onehot_val), total=len(X_val)//100000+1):\n",
    "    y_pred_proba.extend(lr_model.predict_proba(X_batch)[:, 1])\n",
    "map_score = average_precision_score(y_val, y_pred_proba)\n",
    "print(f\"Mean Average Precision (mAP) of Logistic Regression: {map_score:.2f}\")"
   ]
  },
  {
   "cell_type": "code",
   "execution_count": 31,
   "id": "1e71bfac-d601-49f8-81e7-99eb852a8746",
   "metadata": {},
   "outputs": [],
   "source": [
    "protein_onehot_train = onehot_encoder.fit_transform(X_train['protein_name'].values.reshape(-1, 1))"
   ]
  },
  {
   "cell_type": "code",
   "execution_count": 32,
   "id": "248197e7-6160-4622-8b2f-765ad92b1072",
   "metadata": {},
   "outputs": [],
   "source": [
    "protein_onehot_test = onehot_encoder.transform(X_test['protein_name'].values.reshape(-1, 1))"
   ]
  },
  {
   "cell_type": "code",
   "execution_count": 34,
   "id": "50993442-cb02-4737-942d-ada9fa7f3fe9",
   "metadata": {},
   "outputs": [],
   "source": [
    "rf_model = RandomForestClassifier(n_estimators=100, random_state=42)\n",
    "lr_model = LogisticRegression(max_iter=10000, random_state=42)\n",
    "xgb_model = XGBClassifier(n_estimators=100, random_state=42)\n",
    "catboost_model = CatBoostClassifier(iterations=100, random_state=42)"
   ]
  },
  {
   "cell_type": "code",
   "execution_count": 35,
   "id": "ba603b03-7bfc-4e68-bfd4-d6743fba192f",
   "metadata": {
    "tags": []
   },
   "outputs": [
    {
     "name": "stderr",
     "output_type": "stream",
     "text": [
      "  0%|          | 0/26 [00:00<?, ?it/s]"
     ]
    },
    {
     "name": "stdout",
     "output_type": "stream",
     "text": [
      "Progress bar for Batch processing\n"
     ]
    },
    {
     "name": "stderr",
     "output_type": "stream",
     "text": [
      "100%|██████████| 26/26 [1:41:33<00:00, 234.36s/it]\n"
     ]
    }
   ],
   "source": [
    "print(\"Progress bar for Batch processing\")\n",
    "for X_batch, y_batch in tqdm(batch_generator(X_train, protein_onehot_train), total=len(X_train)//100000+1):\n",
    "    rf_model.fit(X_batch, y_batch)\n",
    "    xgb_model.fit(X_batch, y_batch)\n",
    "    lr_model.fit(X_batch, y_batch)\n",
    "    catboost_model.fit(X_batch, y_batch, verbose=0)"
   ]
  },
  {
   "cell_type": "code",
   "execution_count": 36,
   "id": "e8cfa405-522e-4bf6-b592-75808c58b6f9",
   "metadata": {},
   "outputs": [
    {
     "name": "stderr",
     "output_type": "stream",
     "text": [
      "  0%|          | 0/7 [00:00<?, ?it/s]"
     ]
    },
    {
     "name": "stdout",
     "output_type": "stream",
     "text": [
      "Progress bar for Parallel processing\n"
     ]
    },
    {
     "name": "stderr",
     "output_type": "stream",
     "text": [
      "100%|██████████| 7/7 [05:50<00:00, 50.10s/it]\n"
     ]
    }
   ],
   "source": [
    "print(\"Progress bar for Parallel processing\")\n",
    "rf_probabilities=[]\n",
    "xgb_probabilities=[]\n",
    "lr_probabilities=[]\n",
    "catboost_probabilities=[]\n",
    "for X_batch, y_batch in tqdm(batch_generator(X_test, protein_onehot_test), total=len(X_test)//100000+1):\n",
    "    rf_probabilities.extend(rf_model.predict_proba(X_batch)[:, 1])\n",
    "    xgb_probabilities.extend(xgb_model.predict_proba(X_batch)[:, 1])\n",
    "    lr_probabilities.extend(lr_model.predict_proba(X_batch)[:, 1])\n",
    "    catboost_probabilities.extend(catboost_model.predict_proba(X_batch)[:, 1])"
   ]
  },
  {
   "cell_type": "code",
   "execution_count": 37,
   "id": "01e5e157-d358-463d-a736-2386fedc9507",
   "metadata": {},
   "outputs": [
    {
     "name": "stdout",
     "output_type": "stream",
     "text": [
      "Mean Average Precision (mAP): 0.9684\n"
     ]
    }
   ],
   "source": [
    "ensemble_probabilities = np.array([rf_probabilities, xgb_probabilities, lr_probabilities, catboost_probabilities])\n",
    "\n",
    "final_probabilities = np.mean(ensemble_probabilities, axis=0)\n",
    "\n",
    "map_score = average_precision_score(y_test, final_probabilities)\n",
    "\n",
    "print(f\"Mean Average Precision (mAP): {map_score:.4f}\")"
   ]
  }
 ],
 "metadata": {
  "kernelspec": {
   "display_name": "Python 3",
   "language": "python",
   "name": "python3"
  },
  "language_info": {
   "codemirror_mode": {
    "name": "ipython",
    "version": 3
   },
   "file_extension": ".py",
   "mimetype": "text/x-python",
   "name": "python",
   "nbconvert_exporter": "python",
   "pygments_lexer": "ipython3",
   "version": "3.8.8"
  }
 },
 "nbformat": 4,
 "nbformat_minor": 5
}
